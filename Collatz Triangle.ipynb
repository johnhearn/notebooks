{
 "cells": [
  {
   "cell_type": "markdown",
   "metadata": {},
   "source": [
    "Generate a Collatz Triangle, that is, the grid of combinations of $g(x)=\\frac{x}{2} $ and $h(x)=3x+1$ which make up the Collatz sequence. \n",
    "\n",
    "Choosing $g(x) = x-1$ generates Pascual's triangle as expected."
   ]
  },
  {
   "cell_type": "code",
   "execution_count": 1,
   "metadata": {},
   "outputs": [],
   "source": [
    "g = lambda x: x>>1\n",
    "h = lambda x: 3*x+1 # x-1 for binary"
   ]
  },
  {
   "cell_type": "code",
   "execution_count": 2,
   "metadata": {
    "collapsed": true
   },
   "outputs": [],
   "source": [
    "maxPow2 = 10\n",
    "maxX = maxPow2\n",
    "maxY = maxPow2\n",
    "\n",
    "grid = [[0]*maxX for x in range(maxY)]"
   ]
  },
  {
   "cell_type": "code",
   "execution_count": 3,
   "metadata": {},
   "outputs": [],
   "source": [
    "for num in range(1,2**maxPow2):\n",
    "    x=num\n",
    "    i=j=0\n",
    "    #print (num),\n",
    "    while x!=1:\n",
    "        if x%2==0:\n",
    "            x=g(x)\n",
    "            i+=1\n",
    "        else:\n",
    "            x=g(h(x))\n",
    "            j+=1\n",
    "        #print (\"  \",x,i,j)\n",
    "    if i < maxX and j < maxY:\n",
    "        grid[j][i] += 1\n",
    "\n",
    "        \n",
    "        "
   ]
  },
  {
   "cell_type": "code",
   "execution_count": 4,
   "metadata": {},
   "outputs": [
    {
     "name": "stdout",
     "output_type": "stream",
     "text": [
      "1 1 1 1 1 1 1 1 1 1\n",
      "0 0 0 1 1 2 2 3 3 4\n",
      "0 0 0 1 1 2 2 3 4 6\n",
      "0 0 0 0 0 0 1 2 4 6\n",
      "0 0 0 0 0 0 1 2 3 4\n",
      "0 0 0 0 0 0 1 2 3 4\n",
      "0 0 0 0 0 0 0 1 2 3\n",
      "0 0 0 0 0 0 0 0 0 1\n",
      "0 0 0 0 0 0 0 0 0 0\n",
      "0 0 0 0 0 0 0 0 0 0\n"
     ]
    }
   ],
   "source": [
    "for row in grid:\n",
    "    print(*row, sep=' ')"
   ]
  },
  {
   "cell_type": "code",
   "execution_count": null,
   "metadata": {},
   "outputs": [],
   "source": []
  },
  {
   "cell_type": "code",
   "execution_count": null,
   "metadata": {
    "collapsed": true
   },
   "outputs": [],
   "source": []
  }
 ],
 "metadata": {
  "kernelspec": {
   "display_name": "Python 3",
   "language": "python",
   "name": "python3"
  },
  "language_info": {
   "codemirror_mode": {
    "name": "ipython",
    "version": 3
   },
   "file_extension": ".py",
   "mimetype": "text/x-python",
   "name": "python",
   "nbconvert_exporter": "python",
   "pygments_lexer": "ipython3",
   "version": "3.6.4"
  }
 },
 "nbformat": 4,
 "nbformat_minor": 2
}
