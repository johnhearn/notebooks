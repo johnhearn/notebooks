{
 "cells": [
  {
   "cell_type": "markdown",
   "metadata": {},
   "source": [
    "# Sources\n",
    "\n",
    "**Quantum Noise** - Michael A. Nielsen \n",
    "http://michaelnielsen.org/blog/qicss/noise-web.pdf\n",
    "\n",
    "**Modeling Language with Tensor Networks** - Tai-Danae Bradley https://www.youtube.com/watch?v=12j8OV-ptC4"
   ]
  },
  {
   "cell_type": "markdown",
   "metadata": {},
   "source": [
    "# Notes\n",
    "\n",
    "“Density matrix” = “Density operator”\n",
    "\n",
    "The density matrix seems to be a very deep abstraction once you’ve mastered the formalism, it becomes far easier to underst and many other things, including quantum **noise**, quantum **error-correction**, quantum **entanglement**, and quantum **communication**.\n",
    "\n",
    "## Pure states\n",
    "\n",
    "Given a pure state $\\psi$ then the probability of measurement $m$ is given by the projector $P_m$:\n",
    "\n",
    "$$\n",
    "\\begin{align}\n",
    "P(m|\\psi) &= \\langle \\psi \\lvert P_m \\rvert \\psi \\rangle \\\\\n",
    "          &= tr( | \\psi \\rangle \\langle \\psi |P_m )\n",
    "\\end{align}\n",
    "$$\n",
    "\n",
    "Where `tr()` in the trace of the operator. \n",
    "\n",
    "We define a *density matrix* for a pure state:\n",
    "$$\\rho \\equiv | \\psi \\rangle \\langle \\psi |$$\n",
    "\n",
    "Then the probability of outcome m becomes:\n",
    "$$P(m|\\psi) = tr(\\rho P_m ) $$"
   ]
  },
  {
   "cell_type": "code",
   "execution_count": 112,
   "metadata": {},
   "outputs": [],
   "source": [
    "using LinearAlgebra\n",
    "\n",
    "ψ = normalize!(rand(Complex{Float64}, 4), 2)\n",
    "Pm = rand(Complex{Float64}, 4, 4)\n",
    "\n",
    "@assert ψ'*Pm*ψ ≈ tr(ψ*ψ'*Pm)"
   ]
  },
  {
   "cell_type": "code",
   "execution_count": 113,
   "metadata": {},
   "outputs": [],
   "source": [
    "ρ = ψ*ψ'\n",
    "\n",
    "@assert ψ'*Pm*ψ ≈ tr(ρ*Pm)"
   ]
  },
  {
   "cell_type": "markdown",
   "metadata": {},
   "source": [
    "## Mixed states\n",
    "\n",
    "If the state is a mixed state with probabilties $p_j$ where $\\sum_{j=1..n} p_j = 1$ then:\n",
    "\n",
    "$$ | \\psi \\rangle = \\sum_{j=1..n} p_j | \\psi_j \\rangle $$\n",
    "\n",
    "And the probability of outcome m is given by:\n",
    "\n",
    "$$\n",
    "\\begin{align}\n",
    "P(m|\\psi) &= \\sum_{j=1..n} p_j \\langle \\psi_j |P_m|\\psi_j \\rangle \\\\\n",
    "          &= \\sum_{j=1..n} p_j tr( | \\psi_j \\rangle \\langle \\psi_j |P_m )\n",
    "\\end{align}\n",
    "$$"
   ]
  },
  {
   "cell_type": "code",
   "execution_count": 120,
   "metadata": {},
   "outputs": [],
   "source": [
    "n=8\n",
    "p = normalize!(rand(n), 1)\n",
    "ψ = normalize!(rand(Complex{Float64}, 4, n), 2)\n",
    "\n",
    "@assert sum(p[j]*ψ[:,j]'*Pm*ψ[:,j] for j in 1:n) ≈ sum(p[j]*tr(ψ[:,j]*ψ[:,j]'*Pm) for j in 1:n)"
   ]
  },
  {
   "cell_type": "code",
   "execution_count": 121,
   "metadata": {},
   "outputs": [],
   "source": [
    "@assert sum(tr(ψ[:,j]*ψ[:,j]'*Pm) for j in 1:n) ≈ tr(ψ*ψ'*Pm)"
   ]
  },
  {
   "cell_type": "markdown",
   "metadata": {},
   "source": [
    "We **generalise** the density matrix to:\n",
    "$$\\rho \\equiv \\sum_{j=1..n} p_j | \\psi_j \\rangle \\langle \\psi_j |$$\n",
    "\n",
    "And using the [basic properties](https://en.wikipedia.org/wiki/Trace_(linear_algebra)#Basic_properties) of the trace:\n",
    "$$\n",
    "\\begin{align}\n",
    "  \\operatorname{tr}(\\mathbf{A}) + \\operatorname{tr}(\\mathbf{B}) &= \\operatorname{tr}(\\mathbf{A} + \\mathbf{B}), \\\\\n",
    "  c \\operatorname{tr}(\\mathbf{A}) &= \\operatorname{tr}(c\\mathbf{A})\n",
    "\\end{align}\n",
    "$$\n",
    "\n",
    "Then the probability of outcome m becomes:\n",
    "$$P(m|\\psi) = tr(\\rho P_m ) $$"
   ]
  },
  {
   "cell_type": "code",
   "execution_count": 122,
   "metadata": {},
   "outputs": [],
   "source": [
    "ρ = sum(p[j]*ψ[:,j]*ψ[:,j]' for j in 1:n)\n",
    "\n",
    "@assert sum(p[j]*tr(ψ[:,j]*ψ[:,j]'*Pm) for j in 1:n) ≈ tr(ρ*Pm)"
   ]
  },
  {
   "cell_type": "markdown",
   "metadata": {},
   "source": [
    "## Characterisation of $\\rho$\n",
    "\n",
    "The trace of the density matrix is:\n",
    "\n",
    "$$\n",
    "\\begin{align}\n",
    "tr(\\rho) &= tr\\left(\\sum_{j=1..n} p_j | \\psi_j \\rangle \\langle \\psi_j|\\right) \\\\\n",
    "         &= \\sum_{j=1..n} p_j tr\\left(| \\psi_j \\rangle \\langle \\psi_j|\\right) \\\\\n",
    "         &= \\sum_{j=1..n} p_j \\\\\n",
    "         &= 1\n",
    "\\end{align}\n",
    "$$\n",
    "\n",
    "For any vector $|a \\rangle$:\n",
    "\n",
    "$$\n",
    "\\begin{align}\n",
    "\\langle a | \\rho | a \\rangle &= \\langle a | \\left(\\sum_{j=1..n} p_j | \\psi_j \\rangle \\langle \\psi_j\\right) | a \\rangle \\\\\n",
    "   &= \\sum_{j=1..n} p_j \\langle a | \\psi_j \\rangle \\langle \\psi_j | a \\rangle \\\\\n",
    "   &= \\sum_{j=1..n} p_j |\\langle a | \\psi_j \\rangle |^2 \\\\\n",
    "   &\\geqslant 0\n",
    "\\end{align}\n",
    "$$\n",
    "\n",
    "So the density matrix $\\rho$ is a positive matrix and its trace is always 1."
   ]
  },
  {
   "cell_type": "code",
   "execution_count": 172,
   "metadata": {},
   "outputs": [],
   "source": [
    "ψ = normalize!(rand(Complex{Float64}, 4), 2)\n",
    "ρ = ψ*ψ'\n",
    "@assert tr(ρ) ≈ 1.0\n",
    "\n",
    "a = rand(4)\n",
    "@assert real(a'*ρ*a) > 0.0 && abs(imag(a'*ρ*a)) < 1e-16"
   ]
  },
  {
   "cell_type": "markdown",
   "metadata": {},
   "source": [
    "## Time evolution\n",
    "\n",
    "The time evolution of a state $| \\psi \\rangle$ by some operator $U$ can be written $| \\psi_{'} \\rangle = U | \\psi \\rangle$. \n",
    "\n",
    "Applying this to the generalised density matrix:\n",
    "\n",
    "$$\n",
    "\\begin{align}\n",
    "\\rho^{'} &\\equiv \\sum_{j=1..n} p_j | \\psi_j^{'} \\rangle \\langle \\psi_j^{'} | \\\\\n",
    "         &\\equiv \\sum_{j=1..n} p_j U | \\psi_j \\rangle \\langle \\psi_j | U^\\dagger \\\\\n",
    "         &\\equiv U \\left( \\sum_{j=1..n} p_j | \\psi_j \\rangle \\langle \\psi_j | \\right) U^\\dagger \\\\\n",
    "         &\\equiv U \\rho U^\\dagger\n",
    "\\end{align}\n",
    "$$"
   ]
  },
  {
   "cell_type": "code",
   "execution_count": 177,
   "metadata": {},
   "outputs": [],
   "source": [
    "ψ = normalize!(rand(Complex{Float64}, 4), 2)\n",
    "U = rand(4, 4)\n",
    "ρ = ψ*ψ'\n",
    "\n",
    "@assert (U*ψ)*(U*ψ)' ≈ U*ρ*U'"
   ]
  },
  {
   "cell_type": "markdown",
   "metadata": {},
   "source": [
    "## Simple example of noise\n",
    "\n",
    "Imagine a quantum circuit with a single X gate. With probability $p$ the X gate is applied and with probability $1-p$ the X gate fails, and nothing happens.\n",
    "\n",
    "$$\n",
    "\\begin{align}\n",
    "\\rho^{'} &= \\sum_{j=1..n} p_j | \\psi_j \\rangle \\langle \\psi_j | \\\\\n",
    "     &= \\sum_{j=1..n} p_j (pX | \\psi_j \\rangle \\langle \\psi_j | X + (1-p)| \\psi_j \\rangle \\langle \\psi_j |) \\\\\n",
    "     &= p X \\rho X + (1-p) \\rho\n",
    "\\end{align}\n",
    "$$\n",
    "\n",
    "This is a mixed state, even if the original state was not."
   ]
  },
  {
   "cell_type": "markdown",
   "metadata": {},
   "source": [
    "## Measurement\n",
    "\n",
    "A measurement described by the projector $P_m$ gives result m with probability $tr(\\rho P_m)$ and the post measurement density matrix is:\n",
    "\n",
    "$$\n",
    "\\begin{align}\n",
    "\\rho^{'} &\\equiv \\frac{P_m \\rho P_m^\\dagger}{tr(P_m \\rho P_m^\\dagger)}\n",
    "\\end{align}\n",
    "$$"
   ]
  },
  {
   "cell_type": "markdown",
   "metadata": {},
   "source": [
    "# Partial trace"
   ]
  },
  {
   "cell_type": "code",
   "execution_count": 185,
   "metadata": {},
   "outputs": [
    {
     "data": {
      "text/plain": [
       "16×16 Array{Float64,2}:\n",
       " 0.352267   0.675719   0.434839   …  0.0819021  0.0527057  0.0775979\n",
       " 0.649735   0.442689   0.680675      0.0536572  0.0825028  0.0657511\n",
       " 0.776775   0.274345   0.524393      0.0332527  0.0635602  0.0275385\n",
       " 0.552015   0.475112   0.647102      0.0575871  0.0784336  0.00886047\n",
       " 0.204196   0.391689   0.25206       0.809998   0.521251   0.76743\n",
       " 0.376627   0.25661    0.394562   …  0.53066    0.815939   0.650268\n",
       " 0.450267   0.159028   0.303971      0.328863   0.6286     0.272352\n",
       " 0.319983   0.275405   0.375101      0.569527   0.775695   0.0876286\n",
       " 0.0456676  0.0875996  0.0563722     0.709524   0.456594   0.672236\n",
       " 0.0842311  0.0573898  0.0882421     0.464836   0.714728   0.569607\n",
       " 0.1007     0.0355659  0.0679818  …  0.28807    0.550627   0.238568\n",
       " 0.0715628  0.0615932  0.0838898     0.498881   0.679476   0.0767589\n",
       " 0.339281   0.650809   0.41881       0.702409   0.452015   0.665495\n",
       " 0.625783   0.42637    0.655583      0.460175   0.707561   0.563895\n",
       " 0.74814    0.264232   0.505062      0.285182   0.545105   0.236176\n",
       " 0.531666   0.457598   0.623248   …  0.493879   0.672662   0.0759892"
      ]
     },
     "execution_count": 185,
     "metadata": {},
     "output_type": "execute_result"
    }
   ],
   "source": [
    "⊗ = kron\n",
    "\n",
    "M = rand(4,4)\n",
    "N = rand(4,4)\n",
    "O = M⊗N"
   ]
  },
  {
   "cell_type": "code",
   "execution_count": 186,
   "metadata": {},
   "outputs": [
    {
     "data": {
      "text/plain": [
       "4×4 Array{Float64,2}:\n",
       " 1.45197  2.78517  1.79232  2.63881\n",
       " 2.67807  1.82467  2.8056   2.23594\n",
       " 3.20171  1.1308   2.16144  0.93648\n",
       " 2.2753   1.95832  2.66722  0.301311"
      ]
     },
     "execution_count": 186,
     "metadata": {},
     "output_type": "execute_result"
    }
   ],
   "source": [
    "ρA = tr(M)*N"
   ]
  },
  {
   "cell_type": "code",
   "execution_count": 187,
   "metadata": {},
   "outputs": [
    {
     "data": {
      "text/plain": [
       "4×4 Array{Float64,2}:\n",
       " 1.39245   0.98072  1.28574    0.168775\n",
       " 0.807151  1.7046   0.0239369  1.66916\n",
       " 0.180516  1.65594  1.1949     1.46211\n",
       " 1.34112   1.20361  0.848836   1.44745"
      ]
     },
     "execution_count": 187,
     "metadata": {},
     "output_type": "execute_result"
    }
   ],
   "source": [
    "ρB = M*tr(N)"
   ]
  },
  {
   "cell_type": "code",
   "execution_count": 188,
   "metadata": {},
   "outputs": [
    {
     "data": {
      "text/plain": [
       "16×16 Array{Float64,2}:\n",
       " 2.0218    1.42398  1.86687    0.245057  …  2.58793   3.39283     0.445365\n",
       " 1.17196   2.47503  0.0347558  2.42357      4.4981    0.0631649   4.40459\n",
       " 0.262104  2.40437  1.73496    2.12295      4.36969   3.15311     3.85823\n",
       " 1.94727   1.74761  1.23249    2.10166      3.1761    2.23991     3.81954\n",
       " 3.72909   2.62644  3.44332    0.451993     2.19283   2.87485     0.377372\n",
       " 2.16161   4.56504  0.0641049  4.47013   …  3.81138   0.0535216   3.73214\n",
       " 0.483435  4.43472  3.20003    3.91565      3.70258   2.67173     3.2692\n",
       " 3.59162   3.22337  2.27325    3.87638      2.69121   1.89795     3.23642\n",
       " 4.45822   3.13998  4.11658    0.540369     0.918425  1.20407     0.158055\n",
       " 2.58426   5.45762  0.0766391  5.34416      1.59632   0.0224165   1.56313\n",
       " 0.57796   5.30182  3.82572    4.68126   …  1.55075   1.119       1.36924\n",
       " 4.29387   3.85362  2.71773    4.63431      1.12716   0.794918    1.35551\n",
       " 3.16824   2.23143  2.92545    0.384013     0.295502  0.387409    0.0508538\n",
       " 1.83651   3.87846  0.0544636  3.79783      0.513613  0.00721246  0.502935\n",
       " 0.410727  3.76774  2.71875    3.32674      0.498951  0.360036    0.44055\n",
       " 3.05144   2.73858  1.93135    3.29338   …  0.362662  0.255763    0.436132"
      ]
     },
     "execution_count": 188,
     "metadata": {},
     "output_type": "execute_result"
    }
   ],
   "source": [
    "ρA⊗ρB"
   ]
  },
  {
   "cell_type": "code",
   "execution_count": null,
   "metadata": {},
   "outputs": [],
   "source": []
  }
 ],
 "metadata": {
  "kernelspec": {
   "display_name": "Julia 1.5.1",
   "language": "julia",
   "name": "julia-1.5"
  },
  "language_info": {
   "file_extension": ".jl",
   "mimetype": "application/julia",
   "name": "julia",
   "version": "1.5.1"
  }
 },
 "nbformat": 4,
 "nbformat_minor": 4
}
