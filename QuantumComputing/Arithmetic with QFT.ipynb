{
 "cells": [
  {
   "cell_type": "code",
   "execution_count": 1,
   "metadata": {},
   "outputs": [],
   "source": [
    "#]add Yao, BitBasis, Plots"
   ]
  },
  {
   "cell_type": "code",
   "execution_count": 2,
   "metadata": {},
   "outputs": [],
   "source": [
    "using Yao, BitBasis"
   ]
  },
  {
   "cell_type": "markdown",
   "metadata": {},
   "source": [
    "# Quantum Arithmetic with QFT\n",
    "\n",
    "One way to perform arithmetic on a quantum computer is to convert the classical circuit to its reversible quantum equivalent[<sup>1</sup>](https://youtu.be/TL8ZI_goX04) [<sup>2</sup>](https://quantumcomputinguk.org/tutorials/performing-addition-on-ibms-quantum-computers). However, the ideal algorithm for a quantum computer may not be similar to its classical counterpart.\n",
    "\n",
    "For example, Tomas Draper [proposed](http://arxiv.org/abs/quant-ph/0008033) an addition circuit using the [quantum fourier transform](https://en.wikipedia.org/wiki/Quantum_Fourier_transform) (QFT). This was later [extended](http://arxiv.org/abs/1411.5949) to include weighted sums and multiplication.\n",
    "\n",
    "This notebook implements the algorithms in [Yao](https://yaoquantum.org/).\n",
    "\n",
    "Throughout these algorithms heavy use of a particularly useful phase-shift operator is used.\n",
    "\n",
    "$$R_l = \\begin{pmatrix} 1 & 0 \\\\ 0 & e ^ \\frac{ 2 \\pi i }{2 ^ l}  \\end{pmatrix}$$\n",
    "\n",
    "Very roughly speaking it's used to transform a binary number encoded as basis states $a = a_n 2^{n-1} + a_{n-1} 2^{n-2} + ... + a_2 2^1  + a_1 2^0$  into a phase encoding. We'll define that operator first along with its controlled version."
   ]
  },
  {
   "cell_type": "code",
   "execution_count": 3,
   "metadata": {},
   "outputs": [],
   "source": [
    "R(l) = shift(2π/(2^l))\n",
    "CR(i, j, l) = control(i, j=>R(l))\n",
    "\n",
    "@assert mat(R(0)) ≈ mat(I2)"
   ]
  },
  {
   "cell_type": "markdown",
   "metadata": {},
   "source": [
    "The algorithm itself takes two values $a$ and $b$, computes $QFT(a)$ and then uses $b$ to evolve $QFT(a)$ into $QFT(a + b)$. The inverse transform $QFT^{-1}(a+b)$ may then be applied for the final result. \n",
    "\n",
    "To begin we implement the QFT from scratch exactly as described in the paper. This uses the controlled phase gate defined above multiple times.\n",
    "\n",
    "<div>\n",
    "<img src=\"quantum-arithmetic-qft.png\" width=\"600\"/>\n",
    "</div>\n",
    "\n",
    "It's important to note that the order of the bits arbitarily starts with the least significant bit at the bottom. This convention is used throughout the paper and this notebook."
   ]
  },
  {
   "cell_type": "code",
   "execution_count": 4,
   "metadata": {},
   "outputs": [
    {
     "data": {
      "text/plain": [
       "\u001b[36mnqubits: 3\u001b[39m\n",
       "\u001b[34m\u001b[1mchain\u001b[22m\u001b[39m\n",
       "├─ \u001b[34m\u001b[1mchain\u001b[22m\u001b[39m\n",
       "│  ├─ \u001b[36m\u001b[1mput on (\u001b[22m\u001b[39m\u001b[36m\u001b[1m3\u001b[22m\u001b[39m\u001b[36m\u001b[1m)\u001b[22m\u001b[39m\n",
       "│  │  └─ H\n",
       "│  ├─ \u001b[31m\u001b[1mcontrol(\u001b[22m\u001b[39m\u001b[31m\u001b[1m2\u001b[22m\u001b[39m\u001b[31m\u001b[1m)\u001b[22m\u001b[39m\n",
       "│  │  └─ \u001b[37m\u001b[1m(3,)\u001b[22m\u001b[39m shift(1.5707963267948966)\n",
       "│  └─ \u001b[31m\u001b[1mcontrol(\u001b[22m\u001b[39m\u001b[31m\u001b[1m1\u001b[22m\u001b[39m\u001b[31m\u001b[1m)\u001b[22m\u001b[39m\n",
       "│     └─ \u001b[37m\u001b[1m(3,)\u001b[22m\u001b[39m shift(0.7853981633974483)\n",
       "├─ \u001b[34m\u001b[1mchain\u001b[22m\u001b[39m\n",
       "│  ├─ \u001b[36m\u001b[1mput on (\u001b[22m\u001b[39m\u001b[36m\u001b[1m2\u001b[22m\u001b[39m\u001b[36m\u001b[1m)\u001b[22m\u001b[39m\n",
       "│  │  └─ H\n",
       "│  └─ \u001b[31m\u001b[1mcontrol(\u001b[22m\u001b[39m\u001b[31m\u001b[1m1\u001b[22m\u001b[39m\u001b[31m\u001b[1m)\u001b[22m\u001b[39m\n",
       "│     └─ \u001b[37m\u001b[1m(2,)\u001b[22m\u001b[39m shift(1.5707963267948966)\n",
       "└─ \u001b[34m\u001b[1mchain\u001b[22m\u001b[39m\n",
       "   └─ \u001b[36m\u001b[1mput on (\u001b[22m\u001b[39m\u001b[36m\u001b[1m1\u001b[22m\u001b[39m\u001b[36m\u001b[1m)\u001b[22m\u001b[39m\n",
       "      └─ H\n"
      ]
     },
     "execution_count": 4,
     "metadata": {},
     "output_type": "execute_result"
    }
   ],
   "source": [
    "A(n, k) = chain(n, j==1 ? put(k=>H) : CR(k-j+1, k, j) for j in 1:k)\n",
    "\n",
    "qft(n) = chain(A(n, k) for k in n:-1:1)\n",
    "\n",
    "qft(3)"
   ]
  },
  {
   "cell_type": "markdown",
   "metadata": {},
   "source": [
    "The inverse is just the transpose, so we can check that."
   ]
  },
  {
   "cell_type": "code",
   "execution_count": 5,
   "metadata": {},
   "outputs": [],
   "source": [
    "@assert zero_state(4) |> qft(4) |> qft(4)' ≈ zero_state(4)"
   ]
  },
  {
   "cell_type": "markdown",
   "metadata": {},
   "source": [
    "# Quantum Adder\n",
    "\n",
    "The complete adder circuit consists of an initial preparatory block performing the QFT and a final block applying the inverse. Sandwiched between them is a second transformation which evolves the QFT. Again this circuit is taken exactly as described in the paper.\n",
    "\n",
    "<p>\n",
    "<img src=\"quantum-arithmetic-adder.png\" width=\"600\"/>\n",
    "</p>\n",
    "\n",
    "This assumes both numbers have the same number of bits, $n$. Since the sum is produced by transforming the $a$ register in place, the result will be $mod$ $2^n$. Extending the circuit to include a carry qubit is straightforward[<sup>3</sup>](https://deepai.org/publication/quantum-arithmetic-operations-based-on-quantum-fourier-transform-on-signed-integers)."
   ]
  },
  {
   "cell_type": "code",
   "execution_count": 6,
   "metadata": {},
   "outputs": [
    {
     "data": {
      "text/plain": [
       "\u001b[36mnqubits: 6\u001b[39m\n",
       "\u001b[34m\u001b[1mchain\u001b[22m\u001b[39m\n",
       "├─ \u001b[34m\u001b[1mchain\u001b[22m\u001b[39m\n",
       "│  ├─ \u001b[31m\u001b[1mcontrol(\u001b[22m\u001b[39m\u001b[31m\u001b[1m6\u001b[22m\u001b[39m\u001b[31m\u001b[1m)\u001b[22m\u001b[39m\n",
       "│  │  └─ \u001b[37m\u001b[1m(3,)\u001b[22m\u001b[39m shift(3.141592653589793)\n",
       "│  ├─ \u001b[31m\u001b[1mcontrol(\u001b[22m\u001b[39m\u001b[31m\u001b[1m5\u001b[22m\u001b[39m\u001b[31m\u001b[1m)\u001b[22m\u001b[39m\n",
       "│  │  └─ \u001b[37m\u001b[1m(3,)\u001b[22m\u001b[39m shift(1.5707963267948966)\n",
       "│  └─ \u001b[31m\u001b[1mcontrol(\u001b[22m\u001b[39m\u001b[31m\u001b[1m4\u001b[22m\u001b[39m\u001b[31m\u001b[1m)\u001b[22m\u001b[39m\n",
       "│     └─ \u001b[37m\u001b[1m(3,)\u001b[22m\u001b[39m shift(0.7853981633974483)\n",
       "├─ \u001b[34m\u001b[1mchain\u001b[22m\u001b[39m\n",
       "│  ├─ \u001b[31m\u001b[1mcontrol(\u001b[22m\u001b[39m\u001b[31m\u001b[1m5\u001b[22m\u001b[39m\u001b[31m\u001b[1m)\u001b[22m\u001b[39m\n",
       "│  │  └─ \u001b[37m\u001b[1m(2,)\u001b[22m\u001b[39m shift(3.141592653589793)\n",
       "│  └─ \u001b[31m\u001b[1mcontrol(\u001b[22m\u001b[39m\u001b[31m\u001b[1m4\u001b[22m\u001b[39m\u001b[31m\u001b[1m)\u001b[22m\u001b[39m\n",
       "│     └─ \u001b[37m\u001b[1m(2,)\u001b[22m\u001b[39m shift(1.5707963267948966)\n",
       "└─ \u001b[34m\u001b[1mchain\u001b[22m\u001b[39m\n",
       "   └─ \u001b[31m\u001b[1mcontrol(\u001b[22m\u001b[39m\u001b[31m\u001b[1m4\u001b[22m\u001b[39m\u001b[31m\u001b[1m)\u001b[22m\u001b[39m\n",
       "      └─ \u001b[37m\u001b[1m(1,)\u001b[22m\u001b[39m shift(3.141592653589793)\n"
      ]
     },
     "execution_count": 6,
     "metadata": {},
     "output_type": "execute_result"
    }
   ],
   "source": [
    "B(n, k) = chain(n*2, CR(k+n-j+1, k, j) for j in 1:k)\n",
    "\n",
    "add(n) = chain(B(n, k) for k in n:-1:1)\n",
    "\n",
    "add(3)"
   ]
  },
  {
   "cell_type": "markdown",
   "metadata": {},
   "source": [
    "Putting al the pieces together we're ready to build the full circuit. \n",
    "\n",
    "<p>\n",
    "<img src=\"quantum-arithmetic-adder-circuit.png\" width=\"500\"/>\n",
    "</p>\n"
   ]
  },
  {
   "cell_type": "code",
   "execution_count": 7,
   "metadata": {},
   "outputs": [
    {
     "data": {
      "text/plain": [
       "adder (generic function with 1 method)"
      ]
     },
     "execution_count": 7,
     "metadata": {},
     "output_type": "execute_result"
    }
   ],
   "source": [
    "function adder(a,b) \n",
    "  @assert length(b) == length(a)\n",
    "  n = length(a)\n",
    "  product_state(bcat(b,a)) |>\n",
    "    focus!(1:n) |> qft(n) |>\n",
    "    relax! |>\n",
    "    add(n) |>\n",
    "    focus!(1:n) |> qft(n)' |>\n",
    "    measure! |> bint\n",
    "end    "
   ]
  },
  {
   "cell_type": "markdown",
   "metadata": {},
   "source": [
    "The `focus!` and `relax!` fuctions are useful for applying the QFT to only $a$'s qubits.\n",
    "\n",
    "Let's test it with a couple of numbers."
   ]
  },
  {
   "cell_type": "code",
   "execution_count": 8,
   "metadata": {},
   "outputs": [],
   "source": [
    "a = bit\"100101110\"\n",
    "b = bit\"010001101\"\n",
    "\n",
    "@assert (bint(a) + bint(b))%(2^length(a)) == adder(a,b)"
   ]
  },
  {
   "cell_type": "code",
   "execution_count": 9,
   "metadata": {},
   "outputs": [
    {
     "name": "stdout",
     "output_type": "stream",
     "text": [
      "(bint(a), bint(b), adder(a, b)) = (302, 141, 443)\n"
     ]
    }
   ],
   "source": [
    "@show bint(a), bint(b), adder(a,b);"
   ]
  }
 ],
 "metadata": {
  "@webio": {
   "lastCommId": null,
   "lastKernelId": null
  },
  "kernelspec": {
   "display_name": "Julia 1.5.1",
   "language": "julia",
   "name": "julia-1.5"
  },
  "language_info": {
   "file_extension": ".jl",
   "mimetype": "application/julia",
   "name": "julia",
   "version": "1.5.1"
  }
 },
 "nbformat": 4,
 "nbformat_minor": 4
}
