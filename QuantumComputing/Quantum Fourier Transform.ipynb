{
 "cells": [
  {
   "cell_type": "markdown",
   "metadata": {},
   "source": [
    "The **quantum Fourier transform** acts on a quantum state $|x\\rangle = \\sum_{i=0}^{N-1} x_i |i\\rangle$ and maps it to a quantum state $\\sum_{i=0}^{N-1} y_i |i\\rangle$ according to the formula:\n",
    "\n",
    "$$y_k = \\frac{1}{\\sqrt{N}} \\sum_{n=0}^{N-1} x_n \\omega_N^{nk}, \\quad k=0,1,2, \\ldots ,N-1$$\n",
    "\n",
    "where $\\omega_N= e^{\\frac{2 \\pi i}{N}}$ and $\\omega_N^n$ is an $N^{th}$ root of unity.\n",
    "\n",
    "We can map this formula directly to Julia, for example, like this:"
   ]
  },
  {
   "cell_type": "code",
   "execution_count": 1,
   "metadata": {},
   "outputs": [
    {
     "data": {
      "text/plain": [
       "qft (generic function with 1 method)"
      ]
     },
     "execution_count": 1,
     "metadata": {},
     "output_type": "execute_result"
    }
   ],
   "source": [
    "function qft(n)\n",
    "   N = 2^n\n",
    "   ω = Complex{Float32}(exp(2*π*im / N))\n",
    "   a = Float32(1 / sqrt(N))\n",
    "   a * [ω^(i*j) for i in 0:N-1, j in 0:N-1]\n",
    "end"
   ]
  },
  {
   "cell_type": "code",
   "execution_count": 8,
   "metadata": {},
   "outputs": [],
   "source": [
    "n=7\n",
    "r=rand(Complex{Float32}, 2^n);"
   ]
  },
  {
   "cell_type": "code",
   "execution_count": 9,
   "metadata": {},
   "outputs": [
    {
     "name": "stdout",
     "output_type": "stream",
     "text": [
      "  0.001265 seconds (5 allocations: 257.297 KiB)\n"
     ]
    }
   ],
   "source": [
    "@time R = qft(n)*r;"
   ]
  },
  {
   "cell_type": "code",
   "execution_count": 10,
   "metadata": {},
   "outputs": [],
   "source": [
    "#]add FFTW"
   ]
  },
  {
   "cell_type": "code",
   "execution_count": 11,
   "metadata": {},
   "outputs": [
    {
     "name": "stdout",
     "output_type": "stream",
     "text": [
      "  0.000088 seconds (44 allocations: 6.328 KiB)\n"
     ]
    },
    {
     "data": {
      "text/plain": [
       "true"
      ]
     },
     "execution_count": 11,
     "metadata": {},
     "output_type": "execute_result"
    }
   ],
   "source": [
    "using FFTW\n",
    "@time ifft(r)*Float32(sqrt(2^n)) ≈ R"
   ]
  },
  {
   "cell_type": "markdown",
   "metadata": {},
   "source": [
    "So our `qft()` matrix and the inverse FFT are equivalent. Cool!\n",
    "\n",
    "When $n=8$ then numerical errors start creeping into our 32-bit naïve implementation. Above $n=13$ then the $\\mathcal{O}(n^2)$ complexity makes the calculation too long and memory consuming to be practical. \n",
    "\n",
    "We can, however, go to higher values of $n$ using the optimised FFT implementation. Up to about 26 is feasible."
   ]
  },
  {
   "cell_type": "code",
   "execution_count": 12,
   "metadata": {},
   "outputs": [
    {
     "name": "stdout",
     "output_type": "stream",
     "text": [
      "  4.088546 seconds (47 allocations: 1.000 GiB, 0.10% gc time)\n"
     ]
    }
   ],
   "source": [
    "n=26\n",
    "r=rand(Complex{Float32}, 2^n)\n",
    "@time ifft(r)*Float32(sqrt(2^n));"
   ]
  },
  {
   "cell_type": "markdown",
   "metadata": {},
   "source": [
    "This is equivalent to multiplication with a matrix with $2^{26}\\times2^{26}$ (four and a half quadrillion) entries!"
   ]
  }
 ],
 "metadata": {
  "@webio": {
   "lastCommId": null,
   "lastKernelId": null
  },
  "kernelspec": {
   "display_name": "Julia 1.5.1",
   "language": "julia",
   "name": "julia-1.5"
  },
  "language_info": {
   "file_extension": ".jl",
   "mimetype": "application/julia",
   "name": "julia",
   "version": "1.5.1"
  }
 },
 "nbformat": 4,
 "nbformat_minor": 2
}
