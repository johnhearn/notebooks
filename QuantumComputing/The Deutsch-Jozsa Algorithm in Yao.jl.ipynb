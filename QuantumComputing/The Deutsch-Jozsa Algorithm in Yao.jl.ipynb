{
 "cells": [
  {
   "cell_type": "code",
   "execution_count": 1,
   "metadata": {},
   "outputs": [],
   "source": [
    "using Yao, BitBasis, LinearAlgebra, SparseArrays"
   ]
  },
  {
   "cell_type": "markdown",
   "metadata": {},
   "source": [
    "# The simple case\n",
    "\n",
    "Define the [circuit](https://en.wikipedia.org/wiki/Deutsch%E2%80%93Jozsa_algorithm) with a single bit and an ancillary bit. Then evaluate it for each of the 4 possible functions."
   ]
  },
  {
   "cell_type": "code",
   "execution_count": 2,
   "metadata": {},
   "outputs": [
    {
     "data": {
      "text/plain": [
       "deutsch (generic function with 1 method)"
      ]
     },
     "execution_count": 2,
     "metadata": {},
     "output_type": "execute_result"
    }
   ],
   "source": [
    "deutsch(Uf) = chain(2, put(2=>X), repeat(2, H), Uf, put(1=>H))"
   ]
  },
  {
   "cell_type": "code",
   "execution_count": 3,
   "metadata": {},
   "outputs": [
    {
     "data": {
      "text/plain": [
       "4-element Array{Int64,1}:\n",
       " 0\n",
       " 0\n",
       " 1\n",
       " 1"
      ]
     },
     "execution_count": 3,
     "metadata": {},
     "output_type": "execute_result"
    }
   ],
   "source": [
    "Ufs = [\n",
    "    igate,             # f(x) = 0  (constant)\n",
    "    put(2=>X),         # f(x) = 1  (constant)\n",
    "    control(1, 2=>X),  # f(x) = x  (balanced)\n",
    "    chain(             # f(x) = !x (balanced)\n",
    "        control(1, 2=>X),\n",
    "        put(2=>X))\n",
    "]\n",
    "\n",
    "[zero_state(2) |> deutsch(Uf) |> focus!(1) |> measure! |> bint for Uf in Ufs]"
   ]
  },
  {
   "cell_type": "markdown",
   "metadata": {},
   "source": [
    "As we can see this is giving us **0** when the function is *constant* and **1** when it's *balanced*."
   ]
  },
  {
   "cell_type": "markdown",
   "metadata": {},
   "source": [
    "# The multiple bit case\n",
    "\n",
    "Define a circuit with $m$ bits and an ancillary bit."
   ]
  },
  {
   "cell_type": "code",
   "execution_count": 4,
   "metadata": {},
   "outputs": [
    {
     "data": {
      "text/plain": [
       "deutsch_jozsa (generic function with 1 method)"
      ]
     },
     "execution_count": 4,
     "metadata": {},
     "output_type": "execute_result"
    }
   ],
   "source": [
    "deutsch_jozsa(m, Uf) = chain(m+1, put(m+1=>X), repeat(m+1, H), Uf, repeat(H, 1:m))"
   ]
  },
  {
   "cell_type": "markdown",
   "metadata": {},
   "source": [
    "In this case the functions $U_f$ are a little more complicated to create. We'll do it by bit fiddling permutations rather than using a circuit. See [here](https://qiskit.org/textbook/ch-algorithms/deutsch-josza.html) for alternatives."
   ]
  },
  {
   "cell_type": "code",
   "execution_count": 5,
   "metadata": {},
   "outputs": [
    {
     "data": {
      "text/plain": [
       "Uf (generic function with 1 method)"
      ]
     },
     "execution_count": 5,
     "metadata": {},
     "output_type": "execute_result"
    }
   ],
   "source": [
    "function Uf(m::Int, f)\n",
    "    N = 2^(m+1)\n",
    "    perm = [(y ⊻ f(x))<<m + x for y in 0:1 for x in 0:2^m-1]\n",
    "    permute(sparse(I, N, N), perm.+1, collect(1:N)) |> Matrix{Complex{Float64}} |> matblock\n",
    "end"
   ]
  },
  {
   "cell_type": "markdown",
   "metadata": {},
   "source": [
    "$U_f$ is a reversible function from $\\mathbb{Z}^{m+1} \\rightarrow \\mathbb{Z}^{m+1}$ which can be seen as a permutation. The final line converts the permutation to a matrix block used by Yao.jl.\n",
    "\n",
    "Now we can evaluate it multiple times (using the `nshots` parameter) to ensure that the result is always non-zero (balanced)."
   ]
  },
  {
   "cell_type": "code",
   "execution_count": 10,
   "metadata": {},
   "outputs": [
    {
     "data": {
      "text/plain": [
       "10-element Array{BitStr{3,Int64},1}:\n",
       " 001 ₍₂₎\n",
       " 001 ₍₂₎\n",
       " 001 ₍₂₎\n",
       " 001 ₍₂₎\n",
       " 001 ₍₂₎\n",
       " 001 ₍₂₎\n",
       " 001 ₍₂₎\n",
       " 001 ₍₂₎\n",
       " 001 ₍₂₎\n",
       " 001 ₍₂₎"
      ]
     },
     "execution_count": 10,
     "metadata": {},
     "output_type": "execute_result"
    }
   ],
   "source": [
    "m=3\n",
    "f(x) = x%2 # balanced (any function that returns 0 or 1 half the time)\n",
    "zero_state(m+1) |> deutsch_jozsa(m, Uf(m, f)) |> focus!(1:m) |> r -> measure(r,nshots=10)"
   ]
  },
  {
   "cell_type": "markdown",
   "metadata": {},
   "source": [
    "We can do the same with a constant function and check that the result is always $0$."
   ]
  },
  {
   "cell_type": "code",
   "execution_count": 7,
   "metadata": {},
   "outputs": [
    {
     "data": {
      "text/plain": [
       "10-element Array{BitStr{3,Int64},1}:\n",
       " 000 ₍₂₎\n",
       " 000 ₍₂₎\n",
       " 000 ₍₂₎\n",
       " 000 ₍₂₎\n",
       " 000 ₍₂₎\n",
       " 000 ₍₂₎\n",
       " 000 ₍₂₎\n",
       " 000 ₍₂₎\n",
       " 000 ₍₂₎\n",
       " 000 ₍₂₎"
      ]
     },
     "execution_count": 7,
     "metadata": {},
     "output_type": "execute_result"
    }
   ],
   "source": [
    "f(x) = 1 # constant\n",
    "zero_state(m+1) |> deutsch_jozsa(m, Uf(m, f)) |> focus!(1:m) |> r -> measure(r,nshots=10)"
   ]
  }
 ],
 "metadata": {
  "kernelspec": {
   "display_name": "Julia 1.4.1",
   "language": "julia",
   "name": "julia-1.4"
  },
  "language_info": {
   "file_extension": ".jl",
   "mimetype": "application/julia",
   "name": "julia",
   "version": "1.4.1"
  }
 },
 "nbformat": 4,
 "nbformat_minor": 4
}
