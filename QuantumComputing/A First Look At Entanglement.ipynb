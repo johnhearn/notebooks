{
 "cells": [
  {
   "cell_type": "markdown",
   "metadata": {},
   "source": [
    "In the [previous notebook](https://nbviewer.jupyter.org/github/johnhearn/notebooks/blob/master/QuantumComputing/A%20First%20Step%20in%20Understanding%20Quantum%20Computing.ipynb) we simulated a quantum random number generator using a few lines of Julia code. We showed how quantum *superposition* can be used as a random number source. \n",
    "\n",
    "This time we'll simulate a quantum secure communication technique using another the mysterious quantum phenomenon known as *entanglement*. To do that we need to go a step further and work with two qubits at the same time.\n",
    "\n",
    "As a recap these are the definitions we saw earlier. We created two qubit states representing `true` or `1` and `false` or `0`, and a NOT gate representing a rotation by 180º."
   ]
  },
  {
   "cell_type": "code",
   "execution_count": 1,
   "metadata": {},
   "outputs": [],
   "source": [
    "const ⬆ = [1., 0.] # Full upness and no downness\n",
    "const ⬇ = [0., 1.] # No upness and full downness\n",
    "\n",
    "const NOT = [0 1\n",
    "             1 0];"
   ]
  },
  {
   "cell_type": "markdown",
   "metadata": {},
   "source": [
    "## Qubit Pairs\n",
    "\n",
    "In the real world particles combine to form atoms following the rules of quantum mechanics. The same physics can be used combine qubits too!\n",
    "\n",
    "So how do we combine our qubits together? We use what is called the Kronecker product. It's not as scary as it sounds. In fact we don't really need to understand the details at all and since it's just standard linear algebra Julia has it built in!"
   ]
  },
  {
   "cell_type": "code",
   "execution_count": 2,
   "metadata": {},
   "outputs": [],
   "source": [
    "⊗(x,y) = kron(x,y)\n",
    "\n",
    "const ⬆⬆ = ⬆⊗⬆\n",
    "const ⬇⬇ = ⬇⊗⬇\n",
    "const ⬇⬆ = ⬇⊗⬆\n",
    "const ⬆⬇ = ⬆⊗⬇;"
   ]
  },
  {
   "cell_type": "markdown",
   "metadata": {},
   "source": [
    "As easily as that we have a representation of all the possible combinations of ⬇ and ⬆. \n",
    "\n",
    "The same thing applies to gates. By combining two NOT gates in the same way, we can flip both qubits together."
   ]
  },
  {
   "cell_type": "code",
   "execution_count": 3,
   "metadata": {},
   "outputs": [],
   "source": [
    "@assert (NOT⊗NOT)*⬆⬆ ≈ ⬇⬇\n",
    "@assert (NOT⊗NOT)*⬇⬇ ≈ ⬆⬆\n",
    "@assert (NOT⊗NOT)*⬇⬆ ≈ ⬆⬇\n",
    "@assert (NOT⊗NOT)*⬆⬇ ≈ ⬇⬆"
   ]
  },
  {
   "cell_type": "markdown",
   "metadata": {},
   "source": [
    "Following this recipe we can apply any operators we like to the individual qubits. And if, for example, we only want to change the one of the qubits then the other can be left untouched using an identity matrix, $I_2$, which is essentially a NOP gate."
   ]
  },
  {
   "cell_type": "code",
   "execution_count": 4,
   "metadata": {},
   "outputs": [],
   "source": [
    "const I₂ = [1 0\n",
    "            0 1]\n",
    "\n",
    "@assert (NOT⊗I₂)*⬆⬆ ≈ ⬇⬆"
   ]
  },
  {
   "cell_type": "markdown",
   "metadata": {},
   "source": [
    "## Entangled Pairs\n",
    "\n",
    "Now, in the world of quantum mechanics it turns out that we can also do things to a pair of qubits which cannot, even in principle, be done to the qubits individually.\n",
    "\n",
    "I'll say that again: we can do more, much more, with two qubits combined together than we can with two separate ones. This is known as *entanglement* and is a very powerful concept, another of the keys to quantum computing. \n",
    "\n",
    "Take, for example, this 4x4 matrix applied to our double qubits."
   ]
  },
  {
   "cell_type": "code",
   "execution_count": 5,
   "metadata": {},
   "outputs": [],
   "source": [
    "const CNOT = [1 0 0 0\n",
    "              0 1 0 0\n",
    "              0 0 0 1\n",
    "              0 0 1 0]\n",
    "\n",
    "@assert CNOT*(⬇⊗⬇) != ⬇⊗⬇\n",
    "@assert CNOT*(⬆⊗⬇) != ⬇⊗⬆"
   ]
  },
  {
   "cell_type": "markdown",
   "metadata": {},
   "source": [
    "If the first qubit is ⬇ then the gate does nothing, however if the first qubit is ⬆ then it flips the second qubit. Its a NOT gate but in some way dependent (or controlled) on the first qubit. It's called a [CNOT gate](https://en.wikipedia.org/wiki/Controlled_NOT_gate).\n",
    "\n",
    "This gate *cannot* be constructed as the combination of multiple single qubit gates however it *can* be constructed using a quantum computers in the real world. Quantum physics allows qubit pairs to seemingly do the impossible! \n",
    "\n",
    "# Quantum communication\n",
    "\n",
    "Quantum computing is often hailed as the end of internet security because it could, theoretically, deconstruct the keys used for HTTPS communication. \n",
    "\n",
    "On the other hand quantum effects can also be the ultimate solution for encrypted communication using pairs of entangled quantum particles. In fact this is [already](https://www.newscientist.com/article/2229673-china-has-developed-the-worlds-first-mobile-quantum-satellite-station/) happening!\n",
    "\n",
    "This is how it works. We take a pair of qubits (which in reality would, for example, be particles of light) and combine them with our CNOT gate. Send one of the qubits (particles) to a friend. \n",
    "\n",
    "They do something to it to encode a value and then send it back. \n",
    "\n",
    "The fact that the two qubits were entangled means that the qubit our friend sends back can only be decoded reliably by us because we have the other qubit. What's more it can only be decoded once because the measurement process destroys the entanglement. Any kind of eavesdropping is immediately detectable.\n",
    "\n",
    "How does all of this work in code? First we take a pair of qubits, lets say ⬆⬆, apply a $\\sqrt{NOT}$ to the first and then apply a CNOT to both, like this."
   ]
  },
  {
   "cell_type": "code",
   "execution_count": 6,
   "metadata": {},
   "outputs": [],
   "source": [
    "Q = CNOT * (√NOT⊗I₂) * ⬆⬆;"
   ]
  },
  {
   "cell_type": "markdown",
   "metadata": {},
   "source": [
    "The variable $Q$ now represents an entangled qubit pair! Notice that the gates are applied in *reverse* order, that it, they are evaluated right to left.\n",
    "\n",
    "The next step is to send the qubit to a friend who does something to it and then sends it back. (In the real quantum world, qubits could be photons transmitted and passed through lenses independently, even though they remain entangled in principle.)\n",
    "\n",
    "Let's say we got our qubit back. We decode it by just reversing the operations we did earlier."
   ]
  },
  {
   "cell_type": "code",
   "execution_count": 7,
   "metadata": {},
   "outputs": [],
   "source": [
    "Q = (√NOT⊗I₂) * CNOT * Q;"
   ]
  },
  {
   "cell_type": "markdown",
   "metadata": {},
   "source": [
    "We now have our qubit pair back with whatever value our friend wanted to send us tucked inside it. To get it we just perform the measurement. Here again we apply a measurement function which, as in the first part, we can treat as a black box. "
   ]
  },
  {
   "cell_type": "code",
   "execution_count": 8,
   "metadata": {},
   "outputs": [],
   "source": [
    "function measure2(r)\n",
    "    M₀ = ⬆*⬆'\n",
    "    [abs(r'*M*r) < rand() for M in [M₀⊗I₂, I₂⊗M₀]]\n",
    "end\n",
    "\n",
    "@assert measure2(Q) == [1, 0]"
   ]
  },
  {
   "cell_type": "markdown",
   "metadata": {},
   "source": [
    "We have received two bits of information `10`. In fact two bits for the price of one, I guess that's why its called [*superdense*](https://en.wikipedia.org/wiki/Superdense_coding)? Anyway, what if our friend wanted to send some other information, like `01`? They just apply the NOT gate to their qubit. Let's try it."
   ]
  },
  {
   "cell_type": "code",
   "execution_count": 9,
   "metadata": {},
   "outputs": [],
   "source": [
    "Q = CNOT*(√NOT⊗I₂)*⬆⬆ # Qubit pair, send first qubit to friend\n",
    "\n",
    "Q = (NOT⊗I₂)*Q # Our friend applies a NOT gate to their qubit\n",
    "\n",
    "Q = (√NOT⊗I₂)*CNOT*Q # We receive the single qubit back and decode the pair\n",
    "\n",
    "@assert measure2(Q) == [0, 1]"
   ]
  },
  {
   "cell_type": "markdown",
   "metadata": {},
   "source": [
    "What about `00` and `11`? For that we need to introduce another gate, [Z](https://en.wikipedia.org/wiki/Quantum_logic_gate#Pauli-Z_('%22%60UNIQ--postMath-00000028-QINU%60%22')_gate), which is just another type of rotation. With this type of gate our friend can now encode all four possibilities by choosing the appropriate gate and applying it to their single qubit:"
   ]
  },
  {
   "cell_type": "code",
   "execution_count": 10,
   "metadata": {},
   "outputs": [
    {
     "data": {
      "text/plain": [
       "4-element Array{Array{Bool,1},1}:\n",
       " [1, 0]\n",
       " [0, 1]\n",
       " [0, 0]\n",
       " [1, 1]"
      ]
     },
     "execution_count": 10,
     "metadata": {},
     "output_type": "execute_result"
    }
   ],
   "source": [
    "const Z = [1  0\n",
    "           0 -1]\n",
    "\n",
    "Φs = [I₂, NOT, Z, NOT*Z] # The four encodings that our friend can apply\n",
    "\n",
    "[measure2((√NOT⊗I₂) * CNOT * (Φ⊗I₂) * CNOT * (√NOT⊗I₂) * ⬆⬆) for Φ in Φs]"
   ]
  },
  {
   "cell_type": "markdown",
   "metadata": {},
   "source": [
    "## Wrapping up\n",
    "\n",
    "We've seen how pairs of entangled particles can be created and used to send information and we simulated that in code.\n",
    "\n",
    "For a deeper understanding take a look at [Michael Nielsen](https://www.youtube.com/channel/UCoSlN8Gh4W8sfgB-Sf_cG4Q)'s YouTube videos \"[Superdense coding: how to send two bits using one qubit](https://www.youtube.com/watch?v=w5rCn593Dig)\" and \"[What's so special about entangled states anyway?](https://www.youtube.com/watch?v=aRglXdLI7KY&list=PL1826E60FD05B44E4&index=14)\", which goes into more detail and with more technical notations.\n",
    "\n",
    "What happens when we combine more than two qubits? Well, it opens up a whole world of new algorithms and that's what we'll start exploring in the next parts..."
   ]
  }
 ],
 "metadata": {
  "kernelspec": {
   "display_name": "Julia 1.4.1",
   "language": "julia",
   "name": "julia-1.4"
  },
  "language_info": {
   "file_extension": ".jl",
   "mimetype": "application/julia",
   "name": "julia",
   "version": "1.4.1"
  }
 },
 "nbformat": 4,
 "nbformat_minor": 4
}
