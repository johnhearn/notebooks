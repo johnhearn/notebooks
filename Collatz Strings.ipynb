{
 "cells": [
  {
   "cell_type": "markdown",
   "metadata": {},
   "source": [
    "We can split $f(x)$ into two separate functions $g(x)$ and $h(x)$ where $$g(x)=\\frac{x}{2} \\text{ and } h(x)=\\frac{3x+1}{2}$$\n",
    "Sequences can then be represented by a binary string, for example, $$gh(2)=gg(4)=g^{2}(4)=1$$ Or the inverse form $$h^{-1}g^{-1}(1)=g^{-2}(1)=4$$\n",
    "\n",
    "\n",
    "There are similar approaches, for example [here](https://www.hindawi.com/journals/ijmms/2010/458563/)."
   ]
  },
  {
   "cell_type": "code",
   "execution_count": 291,
   "metadata": {},
   "outputs": [],
   "source": [
    "strings = []\n",
    "for num in range(1,(2**10)+1):\n",
    "    x=num\n",
    "    str='|'\n",
    "    while x!=1:\n",
    "        if x%2==0:\n",
    "            x = x>>1\n",
    "            str += ' '\n",
    "        else:\n",
    "            x = (3*x+1)>>1\n",
    "            str += '0'\n",
    "    strings.append('|'+str[::-1])  # reversed"
   ]
  },
  {
   "cell_type": "code",
   "execution_count": 292,
   "metadata": {
    "scrolled": false
   },
   "outputs": [
    {
     "name": "stdout",
     "output_type": "stream",
     "text": [
      "220\n"
     ]
    }
   ],
   "source": [
    "copy = sorted(strings, key=len, reverse=True)\n",
    "for str in copy:\n",
    "    for str2 in copy:\n",
    "        if len(str) > len(str2):\n",
    "            # print(str + \" \" + str2)\n",
    "            if str.startswith(str2[0:-1:1]):\n",
    "                #print('Removing '+str2+' which is prefix of '+str)\n",
    "                if str2 in strings:\n",
    "                    strings.remove(str2)\n",
    "            \n",
    "print(len(strings))\n"
   ]
  },
  {
   "cell_type": "code",
   "execution_count": 301,
   "metadata": {},
   "outputs": [
    {
     "data": {
      "image/png": "[encoded data removed]",
      "text/plain": [
       "<matplotlib.figure.Figure at 0x18386cd7208>"
      ]
     },
     "metadata": {},
     "output_type": "display_data"
    }
   ],
   "source": [
    "import math\n",
    "n = [len(str) for str in strings]\n",
    "k = [str.count('0') for str in strings]\n",
    "\n",
    "X = range(0, max(n), 1)\n",
    "#k_ = [x*math.log(2)/math.log(3) - math.log(3**8.5) for x in X]\n",
    "k_ = [x*math.log(2)/math.log(3) - math.log(max(n)) - math.log(24) for x in X]\n",
    "\n",
    "from matplotlib import pyplot as plt\n",
    "plt.scatter(n,k,color='red',s=1)\n",
    "plt.plot(X,k_,color='blue')\n",
    "#plt.scatter(X,ln)\n",
    "#plt.axhline(y=0.5)\n",
    "plt.show()"
   ]
  },
  {
   "cell_type": "markdown",
   "metadata": {},
   "source": [
    "### Patterns\n",
    "All strings with no 0s represent the strings for $g^{n}(x)=2^{n}$\n",
    "\n",
    "All strings with length $>3$ start with |   |. This is because all sequences with length $>3$ pass through 8.\n",
    "\n",
    "There are many strings with form $|gggg^{k}hg^{n-k-4}|$\n"
   ]
  },
  {
   "cell_type": "code",
   "execution_count": 246,
   "metadata": {},
   "outputs": [
    {
     "ename": "SyntaxError",
     "evalue": "unexpected EOF while parsing (<ipython-input-246-494cbb07b496>, line 9)",
     "output_type": "error",
     "traceback": [
      "\u001b[0;36m  File \u001b[0;32m\"<ipython-input-246-494cbb07b496>\"\u001b[0;36m, line \u001b[0;32m9\u001b[0m\n\u001b[0;31m    \u001b[0m\n\u001b[0m    ^\u001b[0m\n\u001b[0;31mSyntaxError\u001b[0m\u001b[0;31m:\u001b[0m unexpected EOF while parsing\n"
     ]
    }
   ],
   "source": [
    "lastn=0\n",
    "for str in sorted(sorted(strings, reverse=True), key=len):\n",
    "    #n=len(str)\n",
    "    #if n!=lastn:\n",
    "    #    print('-'*n)\n",
    "    #    lastn=n\n",
    "    #print(str,\" n={},k={}\".format(len(str),str.count('0')))\n",
    "    #print(len(str),str.count('0'))\n",
    "\n"
   ]
  },
  {
   "cell_type": "code",
   "execution_count": null,
   "metadata": {
    "collapsed": true
   },
   "outputs": [],
   "source": []
  }
 ],
 "metadata": {
  "kernelspec": {
   "display_name": "Python 3",
   "language": "python",
   "name": "python3"
  },
  "language_info": {
   "codemirror_mode": {
    "name": "ipython",
    "version": 3
   },
   "file_extension": ".py",
   "mimetype": "text/x-python",
   "name": "python",
   "nbconvert_exporter": "python",
   "pygments_lexer": "ipython3",
   "version": "3.6.4"
  }
 },
 "nbformat": 4,
 "nbformat_minor": 2
}
