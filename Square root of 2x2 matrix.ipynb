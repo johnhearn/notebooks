{
 "cells": [
  {
   "cell_type": "markdown",
   "metadata": {},
   "source": [
    "Square root of 2x2 matrix using basic algebra\n",
    "=======================\n",
    "\n",
    "We want to find some matrix $B$ where $ B = \\sqrt{A} $ or, equivalently, $ A = B^2 $. We take\n",
    "\n",
    "$$ A = \\begin{pmatrix}\n",
    "  a & b \\\\\n",
    "  c & d\n",
    " \\end{pmatrix} $$\n",
    "\n",
    "$$ B = \\begin{pmatrix}\n",
    "  a' & b' \\\\\n",
    "  c' & d'\n",
    " \\end{pmatrix} $$\n",
    "\n",
    "Expand $B$ and equate terms."
   ]
  },
  {
   "cell_type": "code",
   "execution_count": 71,
   "metadata": {},
   "outputs": [
    {
     "data": {
      "text/latex": [
       "$$\\left[\\begin{matrix}a & b\\\\c & d\\end{matrix}\\right] = \\left[\\begin{matrix}a'^{2} + b' c' & a' b' + b' d'\\\\a' c' + c' d' & b' c' + d'^{2}\\end{matrix}\\right]$$"
      ],
      "text/plain": [
       "         ⎡   2                        ⎤\n",
       "⎡a  b⎤ = ⎢ a'  + b'⋅c'   a'⋅b' + b'⋅d'⎥\n",
       "⎢    ⎥   ⎢                            ⎥\n",
       "⎣c  d⎦   ⎢                          2 ⎥\n",
       "         ⎣a'⋅c' + c'⋅d'   b'⋅c' + d'  ⎦"
      ]
     },
     "execution_count": 71,
     "metadata": {},
     "output_type": "execute_result"
    }
   ],
   "source": [
    "from sympy import *\n",
    "init_printing()\n",
    "A,a,b,c,d,e,f,g,h = symbols('A a b c d a\\' b\\' c\\' d\\'')\n",
    "\n",
    "A = Matrix([[a,b], [c,d]])\n",
    "B = Matrix([[e,f], [g,h]])\n",
    "\n",
    "e1 = Eq(A,B**2)\n",
    "e1"
   ]
  },
  {
   "cell_type": "code",
   "execution_count": 72,
   "metadata": {},
   "outputs": [
    {
     "data": {
      "image/png": "[encoded data removed]",
      "text/latex": [
       "$$\\left \\{ a : a'^{2} + b' c', \\quad b : b' \\left(a' + d'\\right), \\quad c : c' \\left(a' + d'\\right), \\quad d : b' c' + d'^{2}\\right \\}$$"
      ],
      "text/plain": [
       "⎧     2                                                         2⎫\n",
       "⎨a: a'  + b'⋅c', b: b'⋅(a' + d'), c: c'⋅(a' + d'), d: b'⋅c' + d' ⎬\n",
       "⎩                                                                ⎭"
      ]
     },
     "execution_count": 72,
     "metadata": {},
     "output_type": "execute_result"
    }
   ],
   "source": [
    "solve(e1, (a,b,c,d))"
   ]
  },
  {
   "cell_type": "markdown",
   "metadata": {},
   "source": [
    "We can calculate the determinant $A$ and $B^2$ (confirming that $det(B^2) = det(B)^2$)"
   ]
  },
  {
   "cell_type": "code",
   "execution_count": 73,
   "metadata": {},
   "outputs": [
    {
     "data": {
      "image/png": "[encoded data removed]",
      "text/latex": [
       "$$a d - b c = \\left(a' d' - b' c'\\right)^{2}$$"
      ],
      "text/plain": [
       "                           2\n",
       "a⋅d - b⋅c = (a'⋅d' - b'⋅c') "
      ]
     },
     "execution_count": 73,
     "metadata": {},
     "output_type": "execute_result"
    }
   ],
   "source": [
    "Eq(A.det(), factor((B**2).det()))"
   ]
  },
  {
   "cell_type": "markdown",
   "metadata": {},
   "source": [
    "We can also calculate the trace of $A$ and $B^2$ $$ trace(A) = trace(B^2)$$"
   ]
  },
  {
   "cell_type": "code",
   "execution_count": 74,
   "metadata": {},
   "outputs": [
    {
     "data": {
      "image/png": "[encoded data removed]",
      "text/latex": [
       "$$a + d = a'^{2} + 2 b' c' + d'^{2}$$"
      ],
      "text/plain": [
       "          2               2\n",
       "a + d = a'  + 2⋅b'⋅c' + d' "
      ]
     },
     "execution_count": 74,
     "metadata": {},
     "output_type": "execute_result"
    }
   ],
   "source": [
    "Eq(A.trace(), (B**2).trace())"
   ]
  },
  {
   "cell_type": "markdown",
   "metadata": {},
   "source": [
    "But from the equation for the determinant we know that $$ ad-bc=(a'd'-b'c')^2 $$ or $$b'c' = a'd'-\\sqrt{ad-bc}$$ so $$ a+d = a'^2 + 2a'd' \\pm 2\\sqrt{ad-bc} +d'^2$$ $$a+d = (a'+d')^2 \\pm 2\\sqrt{ad-bc}$$ so $$ trace(B) = a'+d' = \\pm \\sqrt{a+d \\pm 2\\sqrt{ad-bc}} = \\pm \\sqrt{trace(A) \\pm 2\\sqrt{det(A)}}$$\n",
    "\n",
    "Giving 4 solutions. Using these two relations we can calculate the expressions for $a'$,$b'$, $c'$ and $d'$ in terms of $a$, $b$, $c$ and $d$. For example, $$b=b'(a'+d')$$ $$b=b'(\\pm \\sqrt{a+d \\pm 2\\sqrt{ad-bc}})$$ $$b'=\\pm \\frac{b}{\\sqrt{a+d \\pm 2\\sqrt{ad-bc}}}$$ etc..."
   ]
  },
  {
   "cell_type": "code",
   "execution_count": null,
   "metadata": {
    "collapsed": true
   },
   "outputs": [],
   "source": []
  },
  {
   "cell_type": "code",
   "execution_count": null,
   "metadata": {
    "collapsed": true
   },
   "outputs": [],
   "source": []
  }
 ],
 "metadata": {
  "kernelspec": {
   "display_name": "Python 3",
   "language": "python",
   "name": "python3"
  },
  "language_info": {
   "codemirror_mode": {
    "name": "ipython",
    "version": 3
   },
   "file_extension": ".py",
   "mimetype": "text/x-python",
   "name": "python",
   "nbconvert_exporter": "python",
   "pygments_lexer": "ipython3",
   "version": "3.7.3"
  }
 },
 "nbformat": 4,
 "nbformat_minor": 2
}
