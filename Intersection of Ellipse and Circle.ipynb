{
 "cells": [
  {
   "cell_type": "markdown",
   "metadata": {},
   "source": [
    "Intersection points of an ellipse centered at origin and a circle centered at (X,0)"
   ]
  },
  {
   "cell_type": "code",
   "execution_count": 60,
   "metadata": {
    "collapsed": true
   },
   "outputs": [],
   "source": [
    "from sympy import *\n",
    "init_printing()\n",
    "x,y,H,W,X,R = symbols('x y H W X R')"
   ]
  },
  {
   "cell_type": "markdown",
   "metadata": {},
   "source": [
    "Equation of circle of radius R centered at (X,0)"
   ]
  },
  {
   "cell_type": "code",
   "execution_count": 61,
   "metadata": {
    "collapsed": false
   },
   "outputs": [
    {
     "data": {
      "image/png": "[encoded data removed]",
      "text/latex": [
       "$$y^{2} + \\left(- X + x\\right)^{2} = R^{2}$$"
      ],
      "text/plain": [
       " 2           2    2\n",
       "y  + (-X + x)  = R "
      ]
     },
     "execution_count": 61,
     "metadata": {},
     "output_type": "execute_result"
    }
   ],
   "source": [
    "e1 = Eq((x-X)**2 + y**2, R**2)\n",
    "e1"
   ]
  },
  {
   "cell_type": "markdown",
   "metadata": {},
   "source": [
    "Equation of ellipse with radius W along x-axis and radius H along y-axis"
   ]
  },
  {
   "cell_type": "code",
   "execution_count": 62,
   "metadata": {
    "collapsed": false,
    "scrolled": true
   },
   "outputs": [
    {
     "data": {
      "image/png": "[encoded data removed]",
      "text/latex": [
       "$$\\frac{x^{2}}{W^{2}} + \\frac{y^{2}}{H^{2}} = 1$$"
      ],
      "text/plain": [
       " 2    2    \n",
       "x    y     \n",
       "── + ── = 1\n",
       " 2    2    \n",
       "W    H     "
      ]
     },
     "execution_count": 62,
     "metadata": {},
     "output_type": "execute_result"
    }
   ],
   "source": [
    "e2 = Eq((x/W)**2 + (y/H)**2, 1)\n",
    "e2"
   ]
  },
  {
   "cell_type": "markdown",
   "metadata": {},
   "source": [
    "Solve for y."
   ]
  },
  {
   "cell_type": "code",
   "execution_count": 118,
   "metadata": {
    "collapsed": false
   },
   "outputs": [
    {
     "data": {
      "image/png": "[encoded data removed]",
      "text/latex": [
       "$$\\frac{H^{2}}{W^{2}} \\left(W^{2} - x^{2}\\right) + \\left(- X + x\\right)^{2} = R^{2}$$"
      ],
      "text/plain": [
       " 2 ⎛ 2    2⎞                 \n",
       "H ⋅⎝W  - x ⎠           2    2\n",
       "──────────── + (-X + x)  = R \n",
       "      2                      \n",
       "     W                       "
      ]
     },
     "execution_count": 118,
     "metadata": {},
     "output_type": "execute_result"
    }
   ],
   "source": [
    "ysq = solve(e2, y**2)[0]\n",
    "e4 = e1.subs(y**2, ysq)\n",
    "e4"
   ]
  },
  {
   "cell_type": "markdown",
   "metadata": {},
   "source": [
    "Expand out into quadratic equation."
   ]
  },
  {
   "cell_type": "code",
   "execution_count": 119,
   "metadata": {
    "collapsed": false
   },
   "outputs": [
    {
     "data": {
      "image/png": "[encoded data removed]",
      "text/latex": [
       "$$H^{4} W^{2} - H^{4} x^{2} - H^{2} R^{2} W^{2} + H^{2} W^{2} X^{2} - 2 H^{2} W^{2} X x + H^{2} W^{2} x^{2} = 0$$"
      ],
      "text/plain": [
       " 4  2    4  2    2  2  2    2  2  2      2  2        2  2  2    \n",
       "H ⋅W  - H ⋅x  - H ⋅R ⋅W  + H ⋅W ⋅X  - 2⋅H ⋅W ⋅X⋅x + H ⋅W ⋅x  = 0"
      ]
     },
     "execution_count": 119,
     "metadata": {},
     "output_type": "execute_result"
    }
   ],
   "source": [
    "e5 = Eq(expand(Add(e4.lhs,-e4.rhs)*H**2*W**2),0)\n",
    "e5"
   ]
  },
  {
   "cell_type": "markdown",
   "metadata": {},
   "source": [
    "Has solutions only if..."
   ]
  },
  {
   "cell_type": "code",
   "execution_count": 120,
   "metadata": {
    "collapsed": false
   },
   "outputs": [
    {
     "data": {
      "image/png": "[encoded data removed]",
      "text/latex": [
       "$$4 H^{4} W^{2} \\left(H^{4} - H^{2} R^{2} - H^{2} W^{2} + H^{2} X^{2} + R^{2} W^{2}\\right) \\geq 0$$"
      ],
      "text/plain": [
       "   4  2 ⎛ 4    2  2    2  2    2  2    2  2⎞    \n",
       "4⋅H ⋅W ⋅⎝H  - H ⋅R  - H ⋅W  + H ⋅X  + R ⋅W ⎠ ≥ 0"
      ]
     },
     "execution_count": 120,
     "metadata": {},
     "output_type": "execute_result"
    }
   ],
   "source": [
    "e6 = Poly(Add(e4.lhs,-e4.rhs)*H**2*W**2,x)\n",
    "a = e6.coeffs()[0]\n",
    "b = e6.coeffs()[1]\n",
    "c = e6.coeffs()[2]\n",
    "factor(expand(Ge(b**2 -4*a*c,0)))"
   ]
  },
  {
   "cell_type": "markdown",
   "metadata": {},
   "source": [
    "Solve for points (x,y) which intersect both"
   ]
  },
  {
   "cell_type": "code",
   "execution_count": 117,
   "metadata": {
    "collapsed": false,
    "scrolled": true
   },
   "outputs": [
    {
     "data": {
      "image/png": "[encoded data removed]",
      "text/latex": [
       "$$\\left [ \\left ( - \\frac{W}{H^{2} - W^{2}} \\left(W X - \\sqrt{H^{4} - H^{2} R^{2} - H^{2} W^{2} + H^{2} X^{2} + R^{2} W^{2}}\\right), \\quad \\sqrt{\\frac{H^{2}}{H^{4} - 2 H^{2} W^{2} + W^{4}} \\left(H^{2} R^{2} - H^{2} W^{2} - H^{2} X^{2} - R^{2} W^{2} + W^{4} - W^{2} X^{2} + 2 W X \\sqrt{H^{4} - H^{2} R^{2} - H^{2} W^{2} + H^{2} X^{2} + R^{2} W^{2}}\\right)}\\right ), \\quad \\left ( - \\frac{W}{H^{2} - W^{2}} \\left(W X - \\sqrt{H^{4} - H^{2} R^{2} - H^{2} W^{2} + H^{2} X^{2} + R^{2} W^{2}}\\right), \\quad - \\sqrt{- \\frac{H^{2}}{H^{4} - 2 H^{2} W^{2} + W^{4}} \\left(- H^{2} R^{2} + H^{2} W^{2} + H^{2} X^{2} + R^{2} W^{2} - W^{4} + W^{2} X^{2} - 2 W X \\sqrt{H^{4} - H^{2} R^{2} - H^{2} W^{2} + H^{2} X^{2} + R^{2} W^{2}}\\right)}\\right ), \\quad \\left ( - \\frac{W}{H^{2} - W^{2}} \\left(W X + \\sqrt{H^{4} - H^{2} R^{2} - H^{2} W^{2} + H^{2} X^{2} + R^{2} W^{2}}\\right), \\quad \\sqrt{\\frac{H^{2}}{H^{4} - 2 H^{2} W^{2} + W^{4}} \\left(H^{2} R^{2} - H^{2} W^{2} - H^{2} X^{2} - R^{2} W^{2} + W^{4} - W^{2} X^{2} - 2 W X \\sqrt{H^{4} - H^{2} R^{2} - H^{2} W^{2} + H^{2} X^{2} + R^{2} W^{2}}\\right)}\\right ), \\quad \\left ( - \\frac{W}{H^{2} - W^{2}} \\left(W X + \\sqrt{H^{4} - H^{2} R^{2} - H^{2} W^{2} + H^{2} X^{2} + R^{2} W^{2}}\\right), \\quad - \\sqrt{- \\frac{H^{2}}{H^{4} - 2 H^{2} W^{2} + W^{4}} \\left(- H^{2} R^{2} + H^{2} W^{2} + H^{2} X^{2} + R^{2} W^{2} - W^{4} + W^{2} X^{2} + 2 W X \\sqrt{H^{4} - H^{2} R^{2} - H^{2} W^{2} + H^{2} X^{2} + R^{2} W^{2}}\\right)}\\right )\\right ]$$"
      ],
      "text/plain": [
       "⎡⎛                                                            ________________\n",
       "⎢⎜   ⎛         ____________________________________⎞         ╱    ⎛           \n",
       "⎢⎜   ⎜        ╱  4    2  2    2  2    2  2    2  2 ⎟        ╱   2 ⎜ 2  2    2 \n",
       "⎢⎜-W⋅⎝W⋅X - ╲╱  H  - H ⋅R  - H ⋅W  + H ⋅X  + R ⋅W  ⎠       ╱   H ⋅⎝H ⋅R  - H ⋅\n",
       "⎢⎜───────────────────────────────────────────────────,    ╱    ───────────────\n",
       "⎢⎜                       2    2                          ╱                    \n",
       "⎣⎝                      H  - W                         ╲╱                     \n",
       "\n",
       "______________________________________________________________________________\n",
       "                                           ___________________________________\n",
       " 2    2  2    2  2    4    2  2           ╱  4    2  2    2  2    2  2    2  2\n",
       "W  - H ⋅X  - R ⋅W  + W  - W ⋅X  + 2⋅W⋅X⋅╲╱  H  - H ⋅R  - H ⋅W  + H ⋅X  + R ⋅W \n",
       "──────────────────────────────────────────────────────────────────────────────\n",
       "                         4      2  2    4                                     \n",
       "                        H  - 2⋅H ⋅W  + W                                      \n",
       "\n",
       "___⎞  ⎛                                                             __________\n",
       "_⎞ ⎟  ⎜   ⎛         ____________________________________⎞          ╱     ⎛    \n",
       " ⎟ ⎟  ⎜   ⎜        ╱  4    2  2    2  2    2  2    2  2 ⎟         ╱    2 ⎜   2\n",
       " ⎠ ⎟  ⎜-W⋅⎝W⋅X - ╲╱  H  - H ⋅R  - H ⋅W  + H ⋅X  + R ⋅W  ⎠        ╱   -H ⋅⎝- H \n",
       "── ⎟, ⎜───────────────────────────────────────────────────, -   ╱    ─────────\n",
       "   ⎟  ⎜                       2    2                           ╱              \n",
       "   ⎠  ⎝                      H  - W                          ╲╱               \n",
       "\n",
       "______________________________________________________________________________\n",
       "                                                    __________________________\n",
       "  2    2  2    2  2    2  2    4    2  2           ╱  4    2  2    2  2    2  \n",
       "⋅R  + H ⋅W  + H ⋅X  + R ⋅W  - W  + W ⋅X  - 2⋅W⋅X⋅╲╱  H  - H ⋅R  - H ⋅W  + H ⋅X\n",
       "──────────────────────────────────────────────────────────────────────────────\n",
       "                                 4      2  2    4                             \n",
       "                                H  - 2⋅H ⋅W  + W                              \n",
       "\n",
       "_____________⎞  ⎛                                                            _\n",
       "__________⎞  ⎟  ⎜   ⎛         ____________________________________⎞         ╱ \n",
       "2    2  2 ⎟  ⎟  ⎜   ⎜        ╱  4    2  2    2  2    2  2    2  2 ⎟        ╱  \n",
       "  + R ⋅W  ⎠  ⎟  ⎜-W⋅⎝W⋅X + ╲╱  H  - H ⋅R  - H ⋅W  + H ⋅X  + R ⋅W  ⎠       ╱   \n",
       "──────────── ⎟, ⎜───────────────────────────────────────────────────,    ╱    \n",
       "             ⎟  ⎜                       2    2                          ╱     \n",
       "             ⎠  ⎝                      H  - W                         ╲╱      \n",
       "\n",
       "______________________________________________________________________________\n",
       "   ⎛                                                      ____________________\n",
       " 2 ⎜ 2  2    2  2    2  2    2  2    4    2  2           ╱  4    2  2    2  2 \n",
       "H ⋅⎝H ⋅R  - H ⋅W  - H ⋅X  - R ⋅W  + W  - W ⋅X  - 2⋅W⋅X⋅╲╱  H  - H ⋅R  - H ⋅W  \n",
       "──────────────────────────────────────────────────────────────────────────────\n",
       "                                        4      2  2    4                      \n",
       "                                       H  - 2⋅H ⋅W  + W                       \n",
       "\n",
       "__________________⎞  ⎛                                                        \n",
       "________________⎞ ⎟  ⎜   ⎛         ____________________________________⎞      \n",
       "   2  2    2  2 ⎟ ⎟  ⎜   ⎜        ╱  4    2  2    2  2    2  2    2  2 ⎟      \n",
       "+ H ⋅X  + R ⋅W  ⎠ ⎟  ⎜-W⋅⎝W⋅X + ╲╱  H  - H ⋅R  - H ⋅W  + H ⋅X  + R ⋅W  ⎠      \n",
       "───────────────── ⎟, ⎜───────────────────────────────────────────────────, -  \n",
       "                  ⎟  ⎜                       2    2                           \n",
       "                  ⎠  ⎝                      H  - W                          ╲╱\n",
       "\n",
       "     _________________________________________________________________________\n",
       "    ╱     ⎛                                                        ___________\n",
       "   ╱    2 ⎜   2  2    2  2    2  2    2  2    4    2  2           ╱  4    2  2\n",
       "  ╱   -H ⋅⎝- H ⋅R  + H ⋅W  + H ⋅X  + R ⋅W  - W  + W ⋅X  + 2⋅W⋅X⋅╲╱  H  - H ⋅R \n",
       " ╱    ────────────────────────────────────────────────────────────────────────\n",
       "╱                                               4      2  2    4              \n",
       "                                               H  - 2⋅H ⋅W  + W               \n",
       "\n",
       "____________________________⎞⎤\n",
       "_________________________⎞  ⎟⎥\n",
       "    2  2    2  2    2  2 ⎟  ⎟⎥\n",
       " - H ⋅W  + H ⋅X  + R ⋅W  ⎠  ⎟⎥\n",
       "─────────────────────────── ⎟⎥\n",
       "                            ⎟⎥\n",
       "                            ⎠⎦"
      ]
     },
     "execution_count": 117,
     "metadata": {},
     "output_type": "execute_result"
    }
   ],
   "source": [
    "simplify(solve((e1,e2), (x,y)))"
   ]
  },
  {
   "cell_type": "markdown",
   "metadata": {},
   "source": [
    "We can see it gets very complicated, very quickly... :("
   ]
  }
 ],
 "metadata": {
  "kernelspec": {
   "display_name": "Python 3",
   "language": "python",
   "name": "python3"
  },
  "language_info": {
   "codemirror_mode": {
    "name": "ipython",
    "version": 3
   },
   "file_extension": ".py",
   "mimetype": "text/x-python",
   "name": "python",
   "nbconvert_exporter": "python",
   "pygments_lexer": "ipython3",
   "version": "3.6.0"
  }
 },
 "nbformat": 4,
 "nbformat_minor": 2
}
