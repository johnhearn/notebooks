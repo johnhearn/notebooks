{
 "cells": [
  {
   "cell_type": "markdown",
   "metadata": {},
   "source": [
    "Collatz Conjecture as an Eigenvector Problem\n",
    "======================\n",
    "\n",
    "https://en.wikipedia.org/wiki/3x_%2B_1_problem\n",
    "\n",
    "The sequence of integers generated the accelerated relation $$ f(x) = \\left\\{ \\begin{array} & \\frac{3x + 1}{2} & x \\text{ odd} & \\\\ \\frac{x}{2} & x \\text{ even} \\end{array} \\right.$$ can be considered a Markov chain where each number in the sequence is a state and the probability of the next state is exactly 1. Encoding the state as a 1-Hot vector we have \n",
    "$$ x_{n} = \\left( \\begin{array} & 0 & 0 & \\cdots & 1 & 0 & \\cdots \\end{array} \\right)^T$$\n",
    "where the vector is filled with zeros except at the position corresponding to the integer it is encoding where it is 1. Not the $x_{n}$ is natually a _normal_ vector.\n",
    "\n",
    "With this notation we can define the relatin¡on between $x_{n}$ and $x_{n+1}$ as \n",
    "$$ x_{n+1} = Ax_{n} $$\n",
    "where \n",
    "$$ A = \\begin{pmatrix} \n",
    "0 & 1 & 0 & 1 & \\cdots \\\\\n",
    "1 & 0 & 0 & 0 & \\cdots \\\\\n",
    "0 & 0 & 1 & 0 & \\cdots \\\\\n",
    "0 & 0 & 0 & 0 & \\cdots \\\\\n",
    "\\vdots & \\vdots & \\vdots & \\vdots & \\ddots \\\\\n",
    "\\end{pmatrix} $$\n",
    "\n",
    "__Theorem__\n",
    "\n",
    "Let $\\upsilon_{t}$ be the average value of $x_{n}$ over $t$ steps:\n",
    "$$ \\upsilon_{t} = \\frac{1}{t} \\sum_{s=0}^{t} x_{s}$$. \n",
    "\n",
    "Then there is a set of eigenvectors $\\Pi$ such that $A\\pi = \\pi$ where $\\pi \\in \\Pi$.\n",
    "\n",
    "For all $x_{n}$ then $$\\pi = \\lim_{t \\to \\infty} \\upsilon_{t}$$ and can be interpreted as the stationary probability distribution of the operator A.\n",
    "\n",
    "__Proof__\n",
    "\n",
    "Show that $$\\lim_{t \\to \\infty} \\left| A\\upsilon_{t} - \\upsilon_{t} \\right| \\to 0$$\n",
    "\n",
    "Expand as $$\\lim_{t \\to \\infty} \\left| \\frac{A}{t} \\sum_{s=0}^{t} x_{s} - \\frac{1}{t} \\sum_{s=0}^{t} x_{s} \\right|$$ \n",
    " $$\\lim_{t \\to \\infty} \\frac{1}{t} \\left| (Ax_{0} + Ax_{1} + \\cdots + Ax_{t}) - (x_{0} + x_{0} + \\cdots + x_{t}) \\right|$$ \n",
    " $$\\lim_{t \\to \\infty} \\frac{1}{t} \\left| (x_{1} + x_{2} + \\cdots + x_{t+1}) - (x_{0} + x_{0} + \\cdots + x_{t}) \\right|$$ \n",
    " $$\\lim_{t \\to \\infty} \\frac{1}{t} \\left| x_{t+1} - x_{0} \\right|$$ \n",
    "\n",
    "But $x_{0}$ and $x_{t+1}$ are one-hot (normal) vectors so their difference can be at most 2. So the limit is satisfied.\n",
    "\n",
    "Given that in the limit as $t \\to \\infty$, $\\upsilon_{t}$ is the average value of $x_{n}$ then if the number represented by $x_{n}$ is NOT in a cycle then its average value will tend to 0. Similarly values in a cycle will tend to some non-zero value inversely proportional to the length of the cycle.\n",
    "\n",
    "The Collatz Conjecture is equivalent to requiring that the transition matrix, $A$, have exactly one real eigenvalue with value 1, i.e. the stationary probability distribution, $\\pi$, of the transition matrix settles on a single cycle $2 \\to 1 \\to 2$. To illustrate this we can use a truncated 4x4 transition matrix. We add an additional restraint on the truncated form requiring that states that would otherwise fall outside the truncated state matrix return to themselves. \n",
    "$$ A = \\begin{pmatrix} \n",
    "0 & 1 & 0 & 1 \\\\\n",
    "1 & 0 & 0 & 0 \\\\\n",
    "0 & 0 & 1 & 0 \\\\\n",
    "0 & 0 & 0 & 0 \\\\\n",
    "\\end{pmatrix} $$\n",
    "\n",
    "The eigenvectors of this matrix are:"
   ]
  },
  {
   "cell_type": "code",
   "execution_count": 1,
   "metadata": {},
   "outputs": [
    {
     "data": {
      "text/latex": [
       "$$\\left[\\begin{matrix}0 & 1 & 0 & 0\\\\1 & 0 & 0 & 1\\\\0 & 0 & 1 & 0\\\\0 & 0 & 0 & 0\\end{matrix}\\right]$$"
      ],
      "text/plain": [
       "⎡0  1  0  0⎤\n",
       "⎢          ⎥\n",
       "⎢1  0  0  1⎥\n",
       "⎢          ⎥\n",
       "⎢0  0  1  0⎥\n",
       "⎢          ⎥\n",
       "⎣0  0  0  0⎦"
      ]
     },
     "execution_count": 1,
     "metadata": {},
     "output_type": "execute_result"
    }
   ],
   "source": [
    "from sympy import *\n",
    "init_printing()\n",
    "A = symbols('A')\n",
    "\n",
    "A = Matrix([[0,1,0,0], [1,0,0,1], [0,0,1,0], [0,0,0,0]])\n",
    "A"
   ]
  },
  {
   "cell_type": "code",
   "execution_count": 2,
   "metadata": {},
   "outputs": [
    {
     "data": {
      "text/latex": [
       "$$\\left ( 1, \\quad 2, \\quad \\left [ \\left[\\begin{matrix}1\\\\1\\\\0\\\\0\\end{matrix}\\right], \\quad \\left[\\begin{matrix}0\\\\0\\\\1\\\\0\\end{matrix}\\right]\\right ]\\right )$$"
      ],
      "text/plain": [
       "⎛1, 2, ⎡⎡1⎤, ⎡0⎤⎤⎞\n",
       "⎜      ⎢⎢ ⎥  ⎢ ⎥⎥⎟\n",
       "⎜      ⎢⎢1⎥  ⎢0⎥⎥⎟\n",
       "⎜      ⎢⎢ ⎥  ⎢ ⎥⎥⎟\n",
       "⎜      ⎢⎢0⎥  ⎢1⎥⎥⎟\n",
       "⎜      ⎢⎢ ⎥  ⎢ ⎥⎥⎟\n",
       "⎝      ⎣⎣0⎦  ⎣0⎦⎦⎠"
      ]
     },
     "execution_count": 2,
     "metadata": {},
     "output_type": "execute_result"
    }
   ],
   "source": [
    "A.eigenvects()[2]"
   ]
  },
  {
   "cell_type": "markdown",
   "metadata": {},
   "source": [
    "This transition matrix has two eigenvectors with eigenvalue equal to 1. One corresponds to the stationary distribution $(1,1,0,0)^T$ which is our main cycle $1 \\to 2 \\to 1$ and the other $(0,0,1,0)^T$ is the _artificial_ cycle introduced by truncation $3 \\to 3$.\n",
    "\n",
    "For larger matrices, say 20x20, the same applies:"
   ]
  },
  {
   "cell_type": "code",
   "execution_count": 3,
   "metadata": {},
   "outputs": [
    {
     "data": {
      "text/latex": [
       "$$\\left[\\begin{array}{cccccccccccccccccccc}0 & 1 & 0 & 0 & 0 & 0 & 0 & 0 & 0 & 0 & 0 & 0 & 0 & 0 & 0 & 0 & 0 & 0 & 0 & 0\\\\1 & 0 & 0 & 1 & 0 & 0 & 0 & 0 & 0 & 0 & 0 & 0 & 0 & 0 & 0 & 0 & 0 & 0 & 0 & 0\\\\0 & 0 & 0 & 0 & 0 & 1 & 0 & 0 & 0 & 0 & 0 & 0 & 0 & 0 & 0 & 0 & 0 & 0 & 0 & 0\\\\0 & 0 & 0 & 0 & 0 & 0 & 0 & 1 & 0 & 0 & 0 & 0 & 0 & 0 & 0 & 0 & 0 & 0 & 0 & 0\\\\0 & 0 & 1 & 0 & 0 & 0 & 0 & 0 & 0 & 1 & 0 & 0 & 0 & 0 & 0 & 0 & 0 & 0 & 0 & 0\\\\0 & 0 & 0 & 0 & 0 & 0 & 0 & 0 & 0 & 0 & 0 & 1 & 0 & 0 & 0 & 0 & 0 & 0 & 0 & 0\\\\0 & 0 & 0 & 0 & 0 & 0 & 0 & 0 & 0 & 0 & 0 & 0 & 0 & 1 & 0 & 0 & 0 & 0 & 0 & 0\\\\0 & 0 & 0 & 0 & 1 & 0 & 0 & 0 & 0 & 0 & 0 & 0 & 0 & 0 & 0 & 1 & 0 & 0 & 0 & 0\\\\0 & 0 & 0 & 0 & 0 & 0 & 0 & 0 & 0 & 0 & 0 & 0 & 0 & 0 & 0 & 0 & 0 & 1 & 0 & 0\\\\0 & 0 & 0 & 0 & 0 & 0 & 0 & 0 & 0 & 0 & 0 & 0 & 0 & 0 & 0 & 0 & 0 & 0 & 0 & 1\\\\0 & 0 & 0 & 0 & 0 & 0 & 1 & 0 & 0 & 0 & 0 & 0 & 0 & 0 & 0 & 0 & 0 & 0 & 0 & 0\\\\0 & 0 & 0 & 0 & 0 & 0 & 0 & 0 & 0 & 0 & 0 & 0 & 0 & 0 & 0 & 0 & 0 & 0 & 0 & 0\\\\0 & 0 & 0 & 0 & 0 & 0 & 0 & 0 & 0 & 0 & 0 & 0 & 0 & 0 & 0 & 0 & 0 & 0 & 0 & 0\\\\0 & 0 & 0 & 0 & 0 & 0 & 0 & 0 & 1 & 0 & 0 & 0 & 0 & 0 & 0 & 0 & 0 & 0 & 0 & 0\\\\0 & 0 & 0 & 0 & 0 & 0 & 0 & 0 & 0 & 0 & 0 & 0 & 0 & 0 & 1 & 0 & 0 & 0 & 0 & 0\\\\0 & 0 & 0 & 0 & 0 & 0 & 0 & 0 & 0 & 0 & 0 & 0 & 0 & 0 & 0 & 0 & 0 & 0 & 0 & 0\\\\0 & 0 & 0 & 0 & 0 & 0 & 0 & 0 & 0 & 0 & 1 & 0 & 0 & 0 & 0 & 0 & 1 & 0 & 0 & 0\\\\0 & 0 & 0 & 0 & 0 & 0 & 0 & 0 & 0 & 0 & 0 & 0 & 0 & 0 & 0 & 0 & 0 & 0 & 0 & 0\\\\0 & 0 & 0 & 0 & 0 & 0 & 0 & 0 & 0 & 0 & 0 & 0 & 0 & 0 & 0 & 0 & 0 & 0 & 1 & 0\\\\0 & 0 & 0 & 0 & 0 & 0 & 0 & 0 & 0 & 0 & 0 & 0 & 1 & 0 & 0 & 0 & 0 & 0 & 0 & 0\\end{array}\\right]$$"
      ],
      "text/plain": [
       "⎡0  1  0  0  0  0  0  0  0  0  0  0  0  0  0  0  0  0  0  0⎤\n",
       "⎢                                                          ⎥\n",
       "⎢1  0  0  1  0  0  0  0  0  0  0  0  0  0  0  0  0  0  0  0⎥\n",
       "⎢                                                          ⎥\n",
       "⎢0  0  0  0  0  1  0  0  0  0  0  0  0  0  0  0  0  0  0  0⎥\n",
       "⎢                                                          ⎥\n",
       "⎢0  0  0  0  0  0  0  1  0  0  0  0  0  0  0  0  0  0  0  0⎥\n",
       "⎢                                                          ⎥\n",
       "⎢0  0  1  0  0  0  0  0  0  1  0  0  0  0  0  0  0  0  0  0⎥\n",
       "⎢                                                          ⎥\n",
       "⎢0  0  0  0  0  0  0  0  0  0  0  1  0  0  0  0  0  0  0  0⎥\n",
       "⎢                                                          ⎥\n",
       "⎢0  0  0  0  0  0  0  0  0  0  0  0  0  1  0  0  0  0  0  0⎥\n",
       "⎢                                                          ⎥\n",
       "⎢0  0  0  0  1  0  0  0  0  0  0  0  0  0  0  1  0  0  0  0⎥\n",
       "⎢                                                          ⎥\n",
       "⎢0  0  0  0  0  0  0  0  0  0  0  0  0  0  0  0  0  1  0  0⎥\n",
       "⎢                                                          ⎥\n",
       "⎢0  0  0  0  0  0  0  0  0  0  0  0  0  0  0  0  0  0  0  1⎥\n",
       "⎢                                                          ⎥\n",
       "⎢0  0  0  0  0  0  1  0  0  0  0  0  0  0  0  0  0  0  0  0⎥\n",
       "⎢                                                          ⎥\n",
       "⎢0  0  0  0  0  0  0  0  0  0  0  0  0  0  0  0  0  0  0  0⎥\n",
       "⎢                                                          ⎥\n",
       "⎢0  0  0  0  0  0  0  0  0  0  0  0  0  0  0  0  0  0  0  0⎥\n",
       "⎢                                                          ⎥\n",
       "⎢0  0  0  0  0  0  0  0  1  0  0  0  0  0  0  0  0  0  0  0⎥\n",
       "⎢                                                          ⎥\n",
       "⎢0  0  0  0  0  0  0  0  0  0  0  0  0  0  1  0  0  0  0  0⎥\n",
       "⎢                                                          ⎥\n",
       "⎢0  0  0  0  0  0  0  0  0  0  0  0  0  0  0  0  0  0  0  0⎥\n",
       "⎢                                                          ⎥\n",
       "⎢0  0  0  0  0  0  0  0  0  0  1  0  0  0  0  0  1  0  0  0⎥\n",
       "⎢                                                          ⎥\n",
       "⎢0  0  0  0  0  0  0  0  0  0  0  0  0  0  0  0  0  0  0  0⎥\n",
       "⎢                                                          ⎥\n",
       "⎢0  0  0  0  0  0  0  0  0  0  0  0  0  0  0  0  0  0  1  0⎥\n",
       "⎢                                                          ⎥\n",
       "⎣0  0  0  0  0  0  0  0  0  0  0  0  1  0  0  0  0  0  0  0⎦"
      ]
     },
     "execution_count": 3,
     "metadata": {},
     "output_type": "execute_result"
    }
   ],
   "source": [
    "array = []\n",
    "size = 20;\n",
    "for i in range(1, size+1):\n",
    "  array.append([0]*size)\n",
    "  j = (3*i+1)>>1 if i%2==1 else i>>1\n",
    "  if(j>size): j=i;\n",
    "  array[i-1][j-1] = 1\n",
    "\n",
    "A = Matrix(array).transpose()\n",
    "A"
   ]
  },
  {
   "cell_type": "code",
   "execution_count": 4,
   "metadata": {
    "scrolled": true
   },
   "outputs": [
    {
     "data": {
      "text/latex": [
       "$$\\left ( 1, \\quad 4, \\quad \\left [ \\left[\\begin{matrix}1\\\\1\\\\0\\\\0\\\\0\\\\0\\\\0\\\\0\\\\0\\\\0\\\\0\\\\0\\\\0\\\\0\\\\0\\\\0\\\\0\\\\0\\\\0\\\\0\\end{matrix}\\right], \\quad \\left[\\begin{matrix}0\\\\0\\\\0\\\\0\\\\0\\\\0\\\\0\\\\0\\\\0\\\\0\\\\0\\\\0\\\\0\\\\0\\\\1\\\\0\\\\0\\\\0\\\\0\\\\0\\end{matrix}\\right], \\quad \\left[\\begin{matrix}0\\\\0\\\\0\\\\0\\\\0\\\\0\\\\0\\\\0\\\\0\\\\0\\\\0\\\\0\\\\0\\\\0\\\\0\\\\0\\\\1\\\\0\\\\0\\\\0\\end{matrix}\\right], \\quad \\left[\\begin{matrix}0\\\\0\\\\0\\\\0\\\\0\\\\0\\\\0\\\\0\\\\0\\\\0\\\\0\\\\0\\\\0\\\\0\\\\0\\\\0\\\\0\\\\0\\\\1\\\\0\\end{matrix}\\right]\\right ]\\right )$$"
      ],
      "text/plain": [
       "⎛1, 4, ⎡⎡1⎤, ⎡0⎤, ⎡0⎤, ⎡0⎤⎤⎞\n",
       "⎜      ⎢⎢ ⎥  ⎢ ⎥  ⎢ ⎥  ⎢ ⎥⎥⎟\n",
       "⎜      ⎢⎢1⎥  ⎢0⎥  ⎢0⎥  ⎢0⎥⎥⎟\n",
       "⎜      ⎢⎢ ⎥  ⎢ ⎥  ⎢ ⎥  ⎢ ⎥⎥⎟\n",
       "⎜      ⎢⎢0⎥  ⎢0⎥  ⎢0⎥  ⎢0⎥⎥⎟\n",
       "⎜      ⎢⎢ ⎥  ⎢ ⎥  ⎢ ⎥  ⎢ ⎥⎥⎟\n",
       "⎜      ⎢⎢0⎥  ⎢0⎥  ⎢0⎥  ⎢0⎥⎥⎟\n",
       "⎜      ⎢⎢ ⎥  ⎢ ⎥  ⎢ ⎥  ⎢ ⎥⎥⎟\n",
       "⎜      ⎢⎢0⎥  ⎢0⎥  ⎢0⎥  ⎢0⎥⎥⎟\n",
       "⎜      ⎢⎢ ⎥  ⎢ ⎥  ⎢ ⎥  ⎢ ⎥⎥⎟\n",
       "⎜      ⎢⎢0⎥  ⎢0⎥  ⎢0⎥  ⎢0⎥⎥⎟\n",
       "⎜      ⎢⎢ ⎥  ⎢ ⎥  ⎢ ⎥  ⎢ ⎥⎥⎟\n",
       "⎜      ⎢⎢0⎥  ⎢0⎥  ⎢0⎥  ⎢0⎥⎥⎟\n",
       "⎜      ⎢⎢ ⎥  ⎢ ⎥  ⎢ ⎥  ⎢ ⎥⎥⎟\n",
       "⎜      ⎢⎢0⎥  ⎢0⎥  ⎢0⎥  ⎢0⎥⎥⎟\n",
       "⎜      ⎢⎢ ⎥  ⎢ ⎥  ⎢ ⎥  ⎢ ⎥⎥⎟\n",
       "⎜      ⎢⎢0⎥  ⎢0⎥  ⎢0⎥  ⎢0⎥⎥⎟\n",
       "⎜      ⎢⎢ ⎥  ⎢ ⎥  ⎢ ⎥  ⎢ ⎥⎥⎟\n",
       "⎜      ⎢⎢0⎥  ⎢0⎥  ⎢0⎥  ⎢0⎥⎥⎟\n",
       "⎜      ⎢⎢ ⎥  ⎢ ⎥  ⎢ ⎥  ⎢ ⎥⎥⎟\n",
       "⎜      ⎢⎢0⎥  ⎢0⎥  ⎢0⎥  ⎢0⎥⎥⎟\n",
       "⎜      ⎢⎢ ⎥  ⎢ ⎥  ⎢ ⎥  ⎢ ⎥⎥⎟\n",
       "⎜      ⎢⎢0⎥  ⎢0⎥  ⎢0⎥  ⎢0⎥⎥⎟\n",
       "⎜      ⎢⎢ ⎥  ⎢ ⎥  ⎢ ⎥  ⎢ ⎥⎥⎟\n",
       "⎜      ⎢⎢0⎥  ⎢0⎥  ⎢0⎥  ⎢0⎥⎥⎟\n",
       "⎜      ⎢⎢ ⎥  ⎢ ⎥  ⎢ ⎥  ⎢ ⎥⎥⎟\n",
       "⎜      ⎢⎢0⎥  ⎢0⎥  ⎢0⎥  ⎢0⎥⎥⎟\n",
       "⎜      ⎢⎢ ⎥  ⎢ ⎥  ⎢ ⎥  ⎢ ⎥⎥⎟\n",
       "⎜      ⎢⎢0⎥  ⎢1⎥  ⎢0⎥  ⎢0⎥⎥⎟\n",
       "⎜      ⎢⎢ ⎥  ⎢ ⎥  ⎢ ⎥  ⎢ ⎥⎥⎟\n",
       "⎜      ⎢⎢0⎥  ⎢0⎥  ⎢0⎥  ⎢0⎥⎥⎟\n",
       "⎜      ⎢⎢ ⎥  ⎢ ⎥  ⎢ ⎥  ⎢ ⎥⎥⎟\n",
       "⎜      ⎢⎢0⎥  ⎢0⎥  ⎢1⎥  ⎢0⎥⎥⎟\n",
       "⎜      ⎢⎢ ⎥  ⎢ ⎥  ⎢ ⎥  ⎢ ⎥⎥⎟\n",
       "⎜      ⎢⎢0⎥  ⎢0⎥  ⎢0⎥  ⎢0⎥⎥⎟\n",
       "⎜      ⎢⎢ ⎥  ⎢ ⎥  ⎢ ⎥  ⎢ ⎥⎥⎟\n",
       "⎜      ⎢⎢0⎥  ⎢0⎥  ⎢0⎥  ⎢1⎥⎥⎟\n",
       "⎜      ⎢⎢ ⎥  ⎢ ⎥  ⎢ ⎥  ⎢ ⎥⎥⎟\n",
       "⎝      ⎣⎣0⎦  ⎣0⎦  ⎣0⎦  ⎣0⎦⎦⎠"
      ]
     },
     "execution_count": 4,
     "metadata": {},
     "output_type": "execute_result"
    }
   ],
   "source": [
    "A.eigenvects()[2]"
   ]
  },
  {
   "cell_type": "markdown",
   "metadata": {},
   "source": [
    "This continues to show the main cycle as the first eigen vector (stationary distribution) and cycles also at 15, 17 and 19 where the sequences go out of the rang of the array. \n",
    "\n",
    "To prove the conjecture we'd have to show that in the limit as the size of the matrix tends to infinity then there should be only 1 eigenvalue of value 1. I don't know how to do that."
   ]
  }
 ],
 "metadata": {
  "kernelspec": {
   "display_name": "Python 3",
   "language": "python",
   "name": "python3"
  },
  "language_info": {
   "codemirror_mode": {
    "name": "ipython",
    "version": 3
   },
   "file_extension": ".py",
   "mimetype": "text/x-python",
   "name": "python",
   "nbconvert_exporter": "python",
   "pygments_lexer": "ipython3",
   "version": "3.7.3"
  }
 },
 "nbformat": 4,
 "nbformat_minor": 2
}
