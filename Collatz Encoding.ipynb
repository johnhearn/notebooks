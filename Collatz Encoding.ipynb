{
 "cells": [
  {
   "cell_type": "markdown",
   "metadata": {},
   "source": [
    "The Collatz Conjecture or 3x+1 problem states that applying the function $$ f(x) = \\left\\{ \\begin{array} & \\frac{x}{2} & x \\text{ even} \\\\ \\frac{3x + 1}{2} & x \\text{ odd} & \\end{array} \\right.$$ to any $x \\in Z^{+}$ will, after repeated aplication, eventually converge to 1. Assuming the conjecture to be true we can create a novel binary numbering system. \n",
    "\n",
    "First let's look at the base-2 number system. Take any number and apply the following function: $$ f(x) = \\left\\{ \\begin{array} & \\frac{x}{2} & x \\text{ even} \\\\ \\frac{x - 1}{2} & x \\text{ odd} & \\end{array} \\right.$$ \n",
    "\n",
    "If every time we land on an even number we encode it as $0$ and every time we land on an odd number (greater than 1) then we encode it as $1$ then it can be seen that the sequence of $0$s and $1$s generate a string representing the base-2 binary encoding of the original value, in reverse order. For example take the number 5: 5 is odd so encode a $1$, apply $f(x)$ to obtain 2 $\\to$ 2 is even so read off $0$ and apply $f(x)$ to obtain 1 $\\to$ 1 is final value and odd so read off $1$ and stop. We have generated the string $101_{2}$ which is indeed the binary representation of 5.\n",
    "\n",
    "This works by reading off a $1$ or a $0$, shifting and repeating. All values will eventually end at 1 when the most significant digit has been reached. The following function shows the procedure."
   ]
  },
  {
   "cell_type": "code",
   "execution_count": 1,
   "metadata": {},
   "outputs": [
    {
     "name": "stdout",
     "output_type": "stream",
     "text": [
      "101\n"
     ]
    }
   ],
   "source": [
    "def encodeBinary(n):\n",
    "    x=n\n",
    "    str=''\n",
    "    while x!=1:\n",
    "        if x%2==0:\n",
    "            x = x>>1\n",
    "            str += '0'\n",
    "        else:\n",
    "            x = (x-1)>>1\n",
    "            str += '1'\n",
    "    str += '1'\n",
    "    return str[::-1] # reverse\n",
    "\n",
    "print(encodeBinary(5))"
   ]
  },
  {
   "cell_type": "markdown",
   "metadata": {},
   "source": [
    "In a similar way, if we believe the Collatz Conjecture, then all positive integers can be reached by the $3x+1$ variant by applying the same procedure. For example let's start at 5 again: 5 is odd so read off $1$ apply $f(x)$ to obtain 16 $\\to$ 16 is even so read off $0$ and apply $f(x)$ to obtain 8 $\\to$ 8 is even so read off $0$ and apply $f(x)$ to obtain 4 $\\to$ 4 is even so read off $0$ and apply $f(x)$ to obtain 2 $\\to$ 2 is even so read off $0$ and apply $f(x)$ to obtain 1 $\\to$ 1 is final vaue and odd so read off $1$ and stop. We have generated the string $10001_{collatz}$ which is the Collatz binary representation of 5."
   ]
  },
  {
   "cell_type": "code",
   "execution_count": 2,
   "metadata": {},
   "outputs": [
    {
     "name": "stdout",
     "output_type": "stream",
     "text": [
      "10001\n"
     ]
    }
   ],
   "source": [
    "def encodeCollatz(n):\n",
    "    x=n\n",
    "    str=''\n",
    "    while x!=1:\n",
    "        if x%2==0:\n",
    "            x = x>>1\n",
    "            str += '0'\n",
    "        else:\n",
    "            x = (3*x+1)>>1\n",
    "            str += '1'\n",
    "    str += '1'\n",
    "    return str[::-1] # reverse\n",
    "\n",
    "print(encodeCollatz(5))"
   ]
  },
  {
   "cell_type": "markdown",
   "metadata": {},
   "source": [
    "What's the use of this? I have absolutely no idea. It's obviously not an efficient encoding; the length of the encoded string is the length of the trajectory of the number to 1 which could be large for relatively small starting values.\n",
    "\n",
    "I'm wondering if there would be some way of representing the distance between numbers in this encoding as a metric on the encoding space and investigating the geometry. Maybe that would be a way of investigating the conjecture itself."
   ]
  },
  {
   "cell_type": "code",
   "execution_count": null,
   "metadata": {
    "collapsed": true
   },
   "outputs": [],
   "source": []
  }
 ],
 "metadata": {
  "kernelspec": {
   "display_name": "Python 3",
   "language": "python",
   "name": "python3"
  },
  "language_info": {
   "codemirror_mode": {
    "name": "ipython",
    "version": 3
   },
   "file_extension": ".py",
   "mimetype": "text/x-python",
   "name": "python",
   "nbconvert_exporter": "python",
   "pygments_lexer": "ipython3",
   "version": "3.6.4"
  }
 },
 "nbformat": 4,
 "nbformat_minor": 2
}
